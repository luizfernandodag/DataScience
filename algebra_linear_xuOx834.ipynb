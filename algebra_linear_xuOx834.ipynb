{
  "nbformat": 4,
  "nbformat_minor": 0,
  "metadata": {
    "colab": {
      "name": "algebra_linear_xuOx834.ipynb",
      "provenance": [],
      "include_colab_link": true
    },
    "kernelspec": {
      "name": "python3",
      "display_name": "Python 3"
    }
  },
  "cells": [
    {
      "cell_type": "markdown",
      "metadata": {
        "id": "view-in-github",
        "colab_type": "text"
      },
      "source": [
        "<a href=\"https://colab.research.google.com/github/luizfernandodag/DataScience/blob/master/algebra_linear_xuOx834.ipynb\" target=\"_parent\"><img src=\"https://colab.research.google.com/assets/colab-badge.svg\" alt=\"Open In Colab\"/></a>"
      ]
    },
    {
      "cell_type": "markdown",
      "metadata": {
        "id": "_pDEjGL7Mf1x"
      },
      "source": [
        "## Criação de Matrizes"
      ]
    },
    {
      "cell_type": "code",
      "metadata": {
        "id": "S_MOWHI93FLx",
        "outputId": "1773ccb8-aef0-4963-b117-36b837b70949",
        "colab": {
          "base_uri": "https://localhost:8080/"
        }
      },
      "source": [
        "\"\"\"\n",
        "Para criar uma matriz básica, basta usar a função do NumPy\n",
        "como faria com um vetor, mas você define dimensões adicionais. \n",
        "Uma dimensão é uma direção na matriz. Por exemplo, uma matriz \n",
        "bidimensional contém linhas(uma direção) e colunas(uma segunda direção)\n",
        "\"\"\"\n",
        "import numpy as np\n",
        "matrix = np.array([[1,2,3],[4,5,6], [7,8,9]])\n",
        "matrix"
      ],
      "execution_count": null,
      "outputs": [
        {
          "output_type": "execute_result",
          "data": {
            "text/plain": [
              "array([[1, 2, 3],\n",
              "       [4, 5, 6],\n",
              "       [7, 8, 9]])"
            ]
          },
          "metadata": {
            "tags": []
          },
          "execution_count": 39
        }
      ]
    },
    {
      "cell_type": "code",
      "metadata": {
        "id": "Ev4zgGXt3BVb",
        "outputId": "737f4996-1b83-4459-c8d9-bc2f3445a7ff",
        "colab": {
          "base_uri": "https://localhost:8080/"
        }
      },
      "source": [
        "\"\"\"\n",
        "Para acessar um determinado elemento de matriz, você fornece um valor\n",
        "de índice de linha e coluna\n",
        "\"\"\"\n",
        "matrix[0,0]"
      ],
      "execution_count": null,
      "outputs": [
        {
          "output_type": "execute_result",
          "data": {
            "text/plain": [
              "1"
            ]
          },
          "metadata": {
            "tags": []
          },
          "execution_count": 40
        }
      ]
    },
    {
      "cell_type": "code",
      "metadata": {
        "id": "3eZHDBK27Qow",
        "outputId": "f95c5ab9-c4ce-4b9f-81e9-367faa30203d",
        "colab": {
          "base_uri": "https://localhost:8080/"
        }
      },
      "source": [
        "\"\"\"\n",
        "Você pode produzir matrizes com qualquer número de dimensões \n",
        "usando uma técnica semelhante.  \n",
        "\"\"\"\n",
        "matrix = np.array([[[1,2], [3,4]], [[5,6], [7,8]]])\n",
        "matrix"
      ],
      "execution_count": null,
      "outputs": [
        {
          "output_type": "execute_result",
          "data": {
            "text/plain": [
              "array([[[1, 2],\n",
              "        [3, 4]],\n",
              "\n",
              "       [[5, 6],\n",
              "        [7, 8]]])"
            ]
          },
          "metadata": {
            "tags": []
          },
          "execution_count": 41
        }
      ]
    },
    {
      "cell_type": "code",
      "metadata": {
        "id": "ZQdRfYkq8A1C",
        "outputId": "2ee09cd6-17f8-457d-8aaf-a5ed22b0d2bd",
        "colab": {
          "base_uri": "https://localhost:8080/"
        }
      },
      "source": [
        "\"\"\"\n",
        "Neste caso, você deve fornecer um valor de índice x, y e z para \n",
        "acessar um determinado valor. Por exemplo, matrix[0, 1, 1] acessa \n",
        "o valor 4.\n",
        "\"\"\"\n",
        "matrix[0, 1, 1]"
      ],
      "execution_count": null,
      "outputs": [
        {
          "output_type": "execute_result",
          "data": {
            "text/plain": [
              "4"
            ]
          },
          "metadata": {
            "tags": []
          },
          "execution_count": 42
        }
      ]
    },
    {
      "cell_type": "code",
      "metadata": {
        "id": "IFbc6JMe9gWW",
        "outputId": "de8eaccf-6d35-47fb-f7c8-928c3a59f971",
        "colab": {
          "base_uri": "https://localhost:8080/"
        }
      },
      "source": [
        "\"\"\"\n",
        "Produz uma matriz contendo quatro linhas e quatro colunas \n",
        "preenchidas com valores int32\n",
        "\"\"\"\n",
        "matrix = np.ones ([4,4], dtype=np.int32)\n",
        "matrix"
      ],
      "execution_count": null,
      "outputs": [
        {
          "output_type": "execute_result",
          "data": {
            "text/plain": [
              "array([[1, 1, 1, 1],\n",
              "       [1, 1, 1, 1],\n",
              "       [1, 1, 1, 1],\n",
              "       [1, 1, 1, 1]], dtype=int32)"
            ]
          },
          "metadata": {
            "tags": []
          },
          "execution_count": 43
        }
      ]
    },
    {
      "cell_type": "code",
      "metadata": {
        "id": "MTObhvPB9xw1",
        "outputId": "58987d8c-724e-4bd7-f908-4e87e9742d98",
        "colab": {
          "base_uri": "https://localhost:8080/"
        }
      },
      "source": [
        "\"\"\"\n",
        "Criará uma matriz tridimensional. Desta vez, a matriz conterá\n",
        "valores booleanos true. \n",
        "https://docs.scipy.org/doc/numpy/reference/routines.array-creation.html\n",
        "\"\"\"\n",
        "matrix = np.ones ([4,4,4], dtype=np.bool)\n",
        "matrix"
      ],
      "execution_count": null,
      "outputs": [
        {
          "output_type": "execute_result",
          "data": {
            "text/plain": [
              "array([[[ True,  True,  True,  True],\n",
              "        [ True,  True,  True,  True],\n",
              "        [ True,  True,  True,  True],\n",
              "        [ True,  True,  True,  True]],\n",
              "\n",
              "       [[ True,  True,  True,  True],\n",
              "        [ True,  True,  True,  True],\n",
              "        [ True,  True,  True,  True],\n",
              "        [ True,  True,  True,  True]],\n",
              "\n",
              "       [[ True,  True,  True,  True],\n",
              "        [ True,  True,  True,  True],\n",
              "        [ True,  True,  True,  True],\n",
              "        [ True,  True,  True,  True]],\n",
              "\n",
              "       [[ True,  True,  True,  True],\n",
              "        [ True,  True,  True,  True],\n",
              "        [ True,  True,  True,  True],\n",
              "        [ True,  True,  True,  True]]])"
            ]
          },
          "metadata": {
            "tags": []
          },
          "execution_count": 44
        }
      ]
    },
    {
      "cell_type": "code",
      "metadata": {
        "id": "FA2Nl9DhFydU",
        "outputId": "9f2aad03-73ec-4a31-f06f-56655c287c06",
        "colab": {
          "base_uri": "https://localhost:8080/"
        }
      },
      "source": [
        "\"\"\"\n",
        "Tudo o que você realmente precisa saber é como criar uma matriz.\n",
        "O método mais fácil é fazer uma chamada semelhante à que você usa\n",
        "para a função array, mas usando a função .mat() em vez disso\n",
        "\"\"\"\n",
        "matrix = np.mat([[1,2,3], [4,5,6], [7,8,9]])\n",
        "matrix"
      ],
      "execution_count": null,
      "outputs": [
        {
          "output_type": "execute_result",
          "data": {
            "text/plain": [
              "matrix([[1, 2, 3],\n",
              "        [4, 5, 6],\n",
              "        [7, 8, 9]])"
            ]
          },
          "metadata": {
            "tags": []
          },
          "execution_count": 45
        }
      ]
    },
    {
      "cell_type": "code",
      "metadata": {
        "id": "49eoDyoRUfPP",
        "outputId": "9c433eaf-548e-4eed-a9d4-2628596facf1",
        "colab": {
          "base_uri": "https://localhost:8080/"
        }
      },
      "source": [
        "\"\"\"\n",
        "Você também pode converter um array existente em uma matriz usando \n",
        "a função asmatrix(). Use a função asarray() para converter uma matriz \n",
        "de volta a um array.\n",
        "\"\"\"\n",
        "import numpy as np\n",
        "array = np.array([1,2,3,4,5,6,7,8,9])\n",
        "matrix = np.array([[1,2,3],[4,5,6], [7,8,9]])\n",
        "print(np.asmatrix(array)) # de array para matriz\n",
        "print(\"************************************\")\n",
        "print(np.asarray(matrix)) # de matriz para array"
      ],
      "execution_count": null,
      "outputs": [
        {
          "output_type": "stream",
          "text": [
            "[[1 2 3 4 5 6 7 8 9]]\n",
            "************************************\n",
            "[[1 2 3]\n",
            " [4 5 6]\n",
            " [7 8 9]]\n"
          ],
          "name": "stdout"
        }
      ]
    },
    {
      "cell_type": "code",
      "metadata": {
        "id": "ZgX8EUqtDrGk",
        "outputId": "f04a0b56-1c4d-41bc-95b4-958cad575b91",
        "colab": {
          "base_uri": "https://localhost:8080/"
        }
      },
      "source": [
        "\"\"\"\n",
        "Dois métodos comuns de multiplicação de uma matriz são \n",
        "\"elemento por elemento\" e \"produto matricial\". A abordagem \n",
        "elemento por elemento é simples. O código a seguir produz uma \n",
        "multiplicação elemento por elemento de duas matrizes:\n",
        "https://docs.scipy.org/doc/numpy/reference/routines.linalg.html.\n",
        "\"\"\"\n",
        "a = np.array([[1,2,3],[4,5,6]]) \n",
        "b = np.array([[1,2,3],[4,5,6]]) \n",
        "print(a*b)"
      ],
      "execution_count": null,
      "outputs": [
        {
          "output_type": "stream",
          "text": [
            "[[ 1  4  9]\n",
            " [16 25 36]]\n"
          ],
          "name": "stdout"
        }
      ]
    },
    {
      "cell_type": "code",
      "metadata": {
        "id": "WEUI4-PxDzYG",
        "outputId": "94613fed-bf06-45ad-a27f-c3192b8af488",
        "colab": {
          "base_uri": "https://localhost:8080/"
        }
      },
      "source": [
        "\"\"\"\n",
        "Ao executar um produto matricial com uma matriz, o número de colunas \n",
        "na matriz a deve corresponder ao número de linhas na matriz b. \n",
        "No entanto, o número de linhas na matriz a pode ser qualquer número, \n",
        "e o número de colunas na matriz b pode ser qualquer número, desde que \n",
        "você crie de produto matricial de a por b\n",
        "\"\"\"\n",
        "a = np.array([[1,2,3],[4,5,6]]) \n",
        "b = np.array([[1,2,3],[3,4,5],[5,6,7]]) \n",
        "print(a.dot(b))"
      ],
      "execution_count": null,
      "outputs": [
        {
          "output_type": "stream",
          "text": [
            "[[22 28 34]\n",
            " [49 64 79]]\n"
          ],
          "name": "stdout"
        }
      ]
    },
    {
      "cell_type": "code",
      "metadata": {
        "id": "npBF4TcOD9s6",
        "outputId": "5ee37e59-b0b4-404b-fa16-a105d6f60a54",
        "colab": {
          "base_uri": "https://localhost:8080/"
        }
      },
      "source": [
        "\"\"\"\n",
        "Uma vantagem de usar a classe matriz numpy é que algumas tarefas se \n",
        "tornam mais simples. Por exemplo, a multiplicação funciona \n",
        "precisamente como você espera. O código a seguir produz um produto \n",
        "matricial usando a classe matriz:\n",
        "\"\"\"\n",
        "a = np.mat([[1,2,3],[4,5,6]]) \n",
        "b = np.mat([[1,2,3],[3,4,5],[5,6,7]]) \n",
        "print(a*b)"
      ],
      "execution_count": null,
      "outputs": [
        {
          "output_type": "stream",
          "text": [
            "[[22 28 34]\n",
            " [49 64 79]]\n"
          ],
          "name": "stdout"
        }
      ]
    },
    {
      "cell_type": "code",
      "metadata": {
        "id": "fwtb4xPRGD69",
        "outputId": "d4611d69-7058-4d39-94e8-2a5387188a69",
        "colab": {
          "base_uri": "https://localhost:8080/"
        }
      },
      "source": [
        "print(\"****************************\")\n",
        "remodelar = np.array([[1, 2, 3, 4], [5, 6, 7, 8]]) \n",
        "print(remodelar)\n",
        "print(\"****************************\")\n",
        "print(np.transpose(remodelar))"
      ],
      "execution_count": null,
      "outputs": [
        {
          "output_type": "stream",
          "text": [
            "****************************\n",
            "[[1 2 3 4]\n",
            " [5 6 7 8]]\n",
            "****************************\n",
            "[[1 5]\n",
            " [2 6]\n",
            " [3 7]\n",
            " [4 8]]\n"
          ],
          "name": "stdout"
        }
      ]
    },
    {
      "cell_type": "code",
      "metadata": {
        "id": "PeXTiu6hEZPp",
        "outputId": "33536c38-09a9-48ad-e450-03cd77ab5a37",
        "colab": {
          "base_uri": "https://localhost:8080/"
        }
      },
      "source": [
        "\"\"\"\n",
        "O método mais fácil é fazer uma chamada semelhante à que você usa \n",
        "para a função array, mas usando a função .mat() em vez disso\n",
        "\"\"\"\n",
        "matrix = np.mat([[1,2,3], [4,5,6], [7,8,9]])\n",
        "matrix"
      ],
      "execution_count": null,
      "outputs": [
        {
          "output_type": "execute_result",
          "data": {
            "text/plain": [
              "matrix([[1, 2, 3],\n",
              "        [4, 5, 6],\n",
              "        [7, 8, 9]])"
            ]
          },
          "metadata": {
            "tags": []
          },
          "execution_count": 51
        }
      ]
    },
    {
      "cell_type": "markdown",
      "metadata": {
        "id": "Ck3arfNxD30x"
      },
      "source": [
        "## Multiplicação de Matrizes\n",
        "O código a seguir produz uma multiplicação elemento por elemento de duas matrizes:"
      ]
    },
    {
      "cell_type": "code",
      "metadata": {
        "id": "Cs1ChIx5DlvL",
        "outputId": "5e022da8-595f-4875-a789-b0fb10a578ac",
        "colab": {
          "base_uri": "https://localhost:8080/"
        }
      },
      "source": [
        "a = np.array([[1,2,3],[4,5,6]]) \n",
        "b = np.array([[1,2,3],[4,5,6]]) \n",
        "print(a*b)"
      ],
      "execution_count": null,
      "outputs": [
        {
          "output_type": "stream",
          "text": [
            "[[ 1  4  9]\n",
            " [16 25 36]]\n"
          ],
          "name": "stdout"
        }
      ]
    },
    {
      "cell_type": "markdown",
      "metadata": {
        "id": "yGWvgAdrMphV"
      },
      "source": [
        "Infelizmente, uma multiplicação elemento por elemento pode produzir resultados incorretos ao trabalhar com algoritmos. Em muitos casos, o que você realmente precisa é de um produto matricial, que é a soma dos produtos de duas sequências numéricas. Você pode aprender mais sobre as funções lineares de manipulação de álgebra para numpy na documentação oficial, link abaixo https://docs.scipy.org/doc/numpy/reference/routines.linalg.html.<br><br>\n",
        "Ao executar um produto matricial com uma matriz, o número de colunas na matriz a deve corresponder ao número de linhas na matriz b. No entanto, o número de linhas na matriz a pode ser qualquer número, e o número de colunas na matriz b pode ser qualquer número, desde que você crie de produto matricial de a por b. Por exemplo, o código a seguir produz um produto .dot() correto:\n"
      ]
    },
    {
      "cell_type": "code",
      "metadata": {
        "id": "zo6isJ-6MeH-",
        "outputId": "82e7d0e8-f6d0-4bab-f8a0-5805f0eed131",
        "colab": {
          "base_uri": "https://localhost:8080/"
        }
      },
      "source": [
        "a = np.array([[1,2,3],[4,5,6]]) \n",
        "b = np.array([[1,2,3],[3,4,5],[5,6,7]]) \n",
        "print(a.dot(b))"
      ],
      "execution_count": null,
      "outputs": [
        {
          "output_type": "stream",
          "text": [
            "[[22 28 34]\n",
            " [49 64 79]]\n"
          ],
          "name": "stdout"
        }
      ]
    },
    {
      "cell_type": "code",
      "metadata": {
        "id": "gaBxOZELd5l8",
        "outputId": "b079161e-8c73-47a4-a58b-ff320cb640b8",
        "colab": {
          "base_uri": "https://localhost:8080/"
        }
      },
      "source": [
        "\"\"\"\n",
        "Uma vantagem de usar a classe matriz numpy é que algumas tarefas \n",
        "se tornam mais simples. Por exemplo, a multiplicação funciona \n",
        "precisamente como você espera. O código a seguir produz um produto \n",
        "matricial usando a classe matriz:\n",
        "\"\"\"\n",
        "a = np.mat([[1,2,3],[4,5,6]]) \n",
        "b = np.mat([[1,2,3],[3,4,5],[5,6,7]]) \n",
        "print(a*b)"
      ],
      "execution_count": null,
      "outputs": [
        {
          "output_type": "stream",
          "text": [
            "[[22 28 34]\n",
            " [49 64 79]]\n"
          ],
          "name": "stdout"
        }
      ]
    },
    {
      "cell_type": "markdown",
      "metadata": {
        "id": "yYsFeKWheck7"
      },
      "source": [
        "## Operações Matriciais Avançadas"
      ]
    },
    {
      "cell_type": "code",
      "metadata": {
        "id": "Wc_bmgYyegGz",
        "outputId": "c4f2f29b-747e-4993-ab2d-1d461d91a726",
        "colab": {
          "base_uri": "https://localhost:8080/",
          "height": 221
        }
      },
      "source": [
        "# RESHAPE\n",
        "\"\"\"\n",
        "Felizmente, numpy vem com uma função especial de remodelar, \n",
        "o reshape, que permite colocar os dados em qualquer forma necessária.\n",
        "Na verdade, você pode usá-la para remodelar um vetor em uma matriz, \n",
        "como mostramos no código a seguir:\n",
        "\"\"\"\n",
        "remodelar = np.array([1,2,3,4,5,6,7,8])\n",
        "print(remodelar)\n",
        "print(\"*************************\")\n",
        "print(\"Remodelamos para 2linhas/4colunas\")\n",
        "print(remodelar.reshape(2,4))\n",
        "print(\"*************************\")\n",
        "print(\"Remodelamos x,y,z recebendo 2\")\n",
        "print(remodelar.reshape(2,2,2))"
      ],
      "execution_count": null,
      "outputs": [
        {
          "output_type": "stream",
          "text": [
            "[1 2 3 4 5 6 7 8]\n",
            "*************************\n",
            "Remodelamos para 2linhas/4colunas\n",
            "[[1 2 3 4]\n",
            " [5 6 7 8]]\n",
            "*************************\n",
            "Remodelamos x,y,z recebendo 2\n",
            "[[[1 2]\n",
            "  [3 4]]\n",
            "\n",
            " [[5 6]\n",
            "  [7 8]]]\n"
          ],
          "name": "stdout"
        }
      ]
    },
    {
      "cell_type": "code",
      "metadata": {
        "id": "fpfOW_uFFpDF",
        "outputId": "5e4fa11e-394c-47cf-d81b-08dc58a0c7c3",
        "colab": {
          "base_uri": "https://localhost:8080/",
          "height": 197
        }
      },
      "source": [
        "\"\"\"\n",
        "Você deve fornecer uma forma que se encaixe com o número \n",
        "necessário de elementos. Por exemplo, chamar\n",
        "remodelar.reshape(2,3,2) vai dar errado porque não há \n",
        "elementos suficientes para fornecer uma matriz desse tamanho.\n",
        "\"\"\"\n",
        "remodelar.reshape(2,3,2)"
      ],
      "execution_count": null,
      "outputs": [
        {
          "output_type": "error",
          "ename": "ValueError",
          "evalue": "ignored",
          "traceback": [
            "\u001b[0;31m---------------------------------------------------------------------------\u001b[0m",
            "\u001b[0;31mValueError\u001b[0m                                Traceback (most recent call last)",
            "\u001b[0;32m<ipython-input-56-d547365f1afd>\u001b[0m in \u001b[0;36m<module>\u001b[0;34m()\u001b[0m\n\u001b[1;32m      5\u001b[0m \u001b[0melementos\u001b[0m \u001b[0msuficientes\u001b[0m \u001b[0mpara\u001b[0m \u001b[0mfornecer\u001b[0m \u001b[0muma\u001b[0m \u001b[0mmatriz\u001b[0m \u001b[0mdesse\u001b[0m \u001b[0mtamanho\u001b[0m\u001b[0;34m.\u001b[0m\u001b[0;34m\u001b[0m\u001b[0;34m\u001b[0m\u001b[0m\n\u001b[1;32m      6\u001b[0m \"\"\"\n\u001b[0;32m----> 7\u001b[0;31m \u001b[0mremodelar\u001b[0m\u001b[0;34m.\u001b[0m\u001b[0mreshape\u001b[0m\u001b[0;34m(\u001b[0m\u001b[0;36m2\u001b[0m\u001b[0;34m,\u001b[0m\u001b[0;36m3\u001b[0m\u001b[0;34m,\u001b[0m\u001b[0;36m2\u001b[0m\u001b[0;34m)\u001b[0m\u001b[0;34m\u001b[0m\u001b[0;34m\u001b[0m\u001b[0m\n\u001b[0m",
            "\u001b[0;31mValueError\u001b[0m: cannot reshape array of size 8 into shape (2,3,2)"
          ]
        }
      ]
    },
    {
      "cell_type": "markdown",
      "metadata": {
        "id": "JgmH9VlMhPc4"
      },
      "source": [
        "## Matriz Transposta\n",
        "A transposição ocorre quando uma matriz de forma *nxm* é transformada em uma matriz *mxn* trocando as linhas com as colunas."
      ]
    },
    {
      "cell_type": "code",
      "metadata": {
        "id": "LydMh_tlfd5q"
      },
      "source": [
        "remodelar = np.array([[1, 2, 3, 4], [5, 6, 7, 8]]) \n",
        "print(np.transpose(remodelar))"
      ],
      "execution_count": null,
      "outputs": []
    },
    {
      "cell_type": "markdown",
      "metadata": {
        "id": "IP0VKl-Jl-i0"
      },
      "source": [
        "## Matriz Inversa\n",
        "Como a maioria dos números escalares (exceções incluem zero) tem um número cuja multiplicação resulta em um valor de 1, a ideia é encontrar um inverso matricial cuja multiplicação resultará em uma matriz especial chamada matriz de identidade."
      ]
    },
    {
      "cell_type": "code",
      "metadata": {
        "id": "-rMNTJfEmAU2"
      },
      "source": [
        "print(np.identity(4))"
      ],
      "execution_count": null,
      "outputs": []
    },
    {
      "cell_type": "code",
      "metadata": {
        "id": "MkWDKoMQnCtY"
      },
      "source": [
        "\"\"\"\n",
        "O inverso de uma matriz A é indicado como A-1. \n",
        "Com numpy, você usa a função linalg.inv para criar um inverso.\n",
        "O exemplo a seguir mostra como criar um inverso, usamos ele para obter \n",
        "um produto matricial com .dot() e, em seguida, comparar esse produto \n",
        "matricial com a matriz de identidade usando a função allclose():\n",
        "\"\"\"\n",
        "a = np.array([[1,2], [3,4]]) \n",
        "b = np.linalg.inv(a) \n",
        "print(np.allclose(np.dot(a,b), \n",
        "np.identity(2)))"
      ],
      "execution_count": null,
      "outputs": []
    },
    {
      "cell_type": "markdown",
      "metadata": {
        "id": "gAqHabKp-C9I"
      },
      "source": [
        "## Tensores"
      ]
    },
    {
      "cell_type": "code",
      "metadata": {
        "id": "4oCfrXUu-ERK",
        "outputId": "9b463766-1ff5-4d0a-9520-da2939f934df",
        "colab": {
          "base_uri": "https://localhost:8080/",
          "height": 34
        }
      },
      "source": [
        "# REDE NEURAL SIMPLISTA EM 4 LINHAS DE CÓDIGO\n",
        "inputs = np.array([5, 10, 15])\n",
        "pesos = np.array([[.5,.2,-1], [.3,.4,.1], [-.2,.1,.3]])\n",
        "resultado = np.dot(inputs, pesos)\n",
        "resultado"
      ],
      "execution_count": null,
      "outputs": [
        {
          "output_type": "execute_result",
          "data": {
            "text/plain": [
              "array([2.5, 6.5, 0.5])"
            ]
          },
          "metadata": {
            "tags": []
          },
          "execution_count": 57
        }
      ]
    },
    {
      "cell_type": "markdown",
      "metadata": {
        "id": "7dB0WKKBEC0Q"
      },
      "source": [
        "## Vetorização"
      ]
    },
    {
      "cell_type": "code",
      "metadata": {
        "id": "JYIEXwdiEEtU",
        "outputId": "df44c22d-0bef-4087-ad16-205113808deb",
        "colab": {
          "base_uri": "https://localhost:8080/",
          "height": 34
        }
      },
      "source": [
        "def Soma(a, b):\n",
        "  return a + b \n",
        "Vetorizar = np.vectorize(Soma) \n",
        "print(Vetorizar([1, 2, 3, 4], [1, 2, 3, 4]))"
      ],
      "execution_count": null,
      "outputs": [
        {
          "output_type": "stream",
          "text": [
            "[2 4 6 8]\n"
          ],
          "name": "stdout"
        }
      ]
    }
  ]
}