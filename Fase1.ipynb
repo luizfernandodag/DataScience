{
  "nbformat": 4,
  "nbformat_minor": 0,
  "metadata": {
    "colab": {
      "name": "Fase1.ipynb",
      "provenance": [],
      "include_colab_link": true
    },
    "kernelspec": {
      "name": "python3",
      "display_name": "Python 3"
    }
  },
  "cells": [
    {
      "cell_type": "markdown",
      "metadata": {
        "id": "view-in-github",
        "colab_type": "text"
      },
      "source": [
        "<a href=\"https://colab.research.google.com/github/luizfernandodag/DataScience/blob/master/Fase1.ipynb\" target=\"_parent\"><img src=\"https://colab.research.google.com/assets/colab-badge.svg\" alt=\"Open In Colab\"/></a>"
      ]
    },
    {
      "cell_type": "markdown",
      "metadata": {
        "id": "CYNAmoj4zSXl",
        "colab_type": "text"
      },
      "source": [
        "Crie um algoritmo em Python que mostre a mensagem \"Alo mundo\" na tela."
      ]
    },
    {
      "cell_type": "code",
      "metadata": {
        "id": "ViAfpy3GzPN-",
        "colab_type": "code",
        "colab": {
          "base_uri": "https://localhost:8080/",
          "height": 34
        },
        "outputId": "6f8677f2-7e7e-44e1-bcf5-22722c2a2af5"
      },
      "source": [
        "print(\"Alo mundo\")"
      ],
      "execution_count": null,
      "outputs": [
        {
          "output_type": "stream",
          "text": [
            "Alo mundo\n"
          ],
          "name": "stdout"
        }
      ]
    },
    {
      "cell_type": "markdown",
      "metadata": {
        "id": "gdMis92izSmQ",
        "colab_type": "text"
      },
      "source": [
        "Crie um algoritmo em Python que peça dois números e imprima a soma."
      ]
    },
    {
      "cell_type": "code",
      "metadata": {
        "id": "BFpWkdCBz_zh",
        "colab_type": "code",
        "colab": {
          "base_uri": "https://localhost:8080/",
          "height": 68
        },
        "outputId": "7c159f79-5af9-4091-ed64-c6ae27d2c0af"
      },
      "source": [
        "while True:\n",
        "  n1 = input(\"Digite o primeiro numero: \")\n",
        "  if(n1.isnumeric()):\n",
        "    n1 = int(n1)\n",
        "    break\n",
        "while True:\n",
        "  n2 = input(\"Digite o segundo numero: \")\n",
        "  if(n2.isnumeric()):\n",
        "    n2 = int(n2)\n",
        "    break\n",
        "\n",
        "soma = n1 + n2\n",
        "\n",
        "print(f\"soma: {soma}\")"
      ],
      "execution_count": null,
      "outputs": [
        {
          "output_type": "stream",
          "text": [
            "Digite o primeiro numero: 2\n",
            "Digite o segundo numero: 2\n",
            "soma: 4\n"
          ],
          "name": "stdout"
        }
      ]
    },
    {
      "cell_type": "markdown",
      "metadata": {
        "id": "E_0l_Vx6zSo2",
        "colab_type": "text"
      },
      "source": [
        "Crie um algoritmo em Python que peça um número e então mostre a mensagem O número informado foi [número]."
      ]
    },
    {
      "cell_type": "code",
      "metadata": {
        "id": "KwJf7XZS0AZW",
        "colab_type": "code",
        "colab": {
          "base_uri": "https://localhost:8080/",
          "height": 51
        },
        "outputId": "208caf37-8e72-4779-8cb6-37055e6c49b0"
      },
      "source": [
        "while True:\n",
        "  n1 = input(\"Digite um numero: \")\n",
        "  if(n1.isnumeric()):\n",
        "    n1 = int(n1)\n",
        "    break\n",
        "print(f\"O numero informado eh: {n1}\")\n"
      ],
      "execution_count": null,
      "outputs": [
        {
          "output_type": "stream",
          "text": [
            "Digite um numero: 2\n",
            "O numero informado eh: 2\n"
          ],
          "name": "stdout"
        }
      ]
    },
    {
      "cell_type": "markdown",
      "metadata": {
        "id": "1i4VCiiczSrL",
        "colab_type": "text"
      },
      "source": [
        "Crie um algoritmo em Python que converta metros para centímetros."
      ]
    },
    {
      "cell_type": "code",
      "metadata": {
        "id": "yoW67hjA0BHy",
        "colab_type": "code",
        "colab": {
          "base_uri": "https://localhost:8080/",
          "height": 51
        },
        "outputId": "f7098ef7-9720-499b-d997-097d5c3f1b6f"
      },
      "source": [
        "while True:\n",
        "  metros = input(\"Digite a quantidade de metros \")\n",
        "  if(metros.isnumeric()):\n",
        "    metros = int(metros)\n",
        "    break\n",
        "\n",
        "centimetros = 100*metros\n",
        "print(f\"quantidade de centimetros: {centimetros}\")\n",
        "\n",
        "\n"
      ],
      "execution_count": null,
      "outputs": [
        {
          "output_type": "stream",
          "text": [
            "Digite a quantidade de metros 2\n",
            "quantidade de centimetros: 200\n"
          ],
          "name": "stdout"
        }
      ]
    },
    {
      "cell_type": "markdown",
      "metadata": {
        "id": "4ep7kezvzStO",
        "colab_type": "text"
      },
      "source": [
        "Crie um algoritmo em Python que peça as 4 notas bimestrais e mostre a média."
      ]
    },
    {
      "cell_type": "code",
      "metadata": {
        "id": "6K6IHWdr0Blt",
        "colab_type": "code",
        "colab": {
          "base_uri": "https://localhost:8080/",
          "height": 68
        },
        "outputId": "1f436753-ea51-4eae-c36d-8b0f289aa36a"
      },
      "source": [
        "\n",
        "while True:\n",
        "\n",
        "  x = list(map(int, input(\"Enter 4 values: \").split())) \n",
        "  if len(x) == 4:\n",
        "    break\n",
        "\n",
        "\n",
        "#for s in inp:\n",
        "  #print(s)\n",
        "print('List of grades: ', x)\n",
        "\n",
        "total = sum(x)\n",
        "size = len(x)\n",
        "\n",
        "mean = total/size\n",
        "print(f\"mean: {mean}\")\n",
        "\n",
        "  \n",
        "\n",
        "             \n"
      ],
      "execution_count": null,
      "outputs": [
        {
          "output_type": "stream",
          "text": [
            "Enter 4 values: 1 2 3 4\n",
            "List of grades:  [1, 2, 3, 4]\n",
            "mean: 2.5\n"
          ],
          "name": "stdout"
        }
      ]
    },
    {
      "cell_type": "markdown",
      "metadata": {
        "id": "u6__NaXqzeYg",
        "colab_type": "text"
      },
      "source": [
        "Crie um algoritmo em Python que peça o raio de um círculo, calcule e mostre sua área."
      ]
    },
    {
      "cell_type": "code",
      "metadata": {
        "id": "mm2L7g3x0Cfx",
        "colab_type": "code",
        "colab": {
          "base_uri": "https://localhost:8080/",
          "height": 51
        },
        "outputId": "864aa385-8118-43e9-b541-a3297e3a04c9"
      },
      "source": [
        "import math\n",
        "while True:\n",
        "  radius = input(\"Write the circle radius: \")\n",
        "  if(radius.isnumeric()):\n",
        "    radius = int(radius)\n",
        "    break\n",
        "\n",
        "area = math.pi*radius**2\n",
        "print(f\"circle area is {area}\")"
      ],
      "execution_count": null,
      "outputs": [
        {
          "output_type": "stream",
          "text": [
            "Write the circle radius: 1\n",
            "circle area is 3.141592653589793\n"
          ],
          "name": "stdout"
        }
      ]
    },
    {
      "cell_type": "markdown",
      "metadata": {
        "id": "lIlfG-ATzgOr",
        "colab_type": "text"
      },
      "source": [
        "Crie um algoritmo em Python que calcule a área de um quadrado, em seguida mostre o dobro desta área para o usuário."
      ]
    },
    {
      "cell_type": "code",
      "metadata": {
        "id": "-y4pB6br0DD_",
        "colab_type": "code",
        "colab": {
          "base_uri": "https://localhost:8080/",
          "height": 51
        },
        "outputId": "22698c1c-0b91-4784-9301-62d1a7a00138"
      },
      "source": [
        "while True:\n",
        "  squareSide = input(\"Write the square side: \")\n",
        "\n",
        "  if squareSide.isnumeric():\n",
        "    squareSide = int(squareSide)\n",
        "    break\n",
        "\n",
        "area = squareSide**2\n",
        "\n",
        "print(f\"Double of the square area: {2*area}\")"
      ],
      "execution_count": null,
      "outputs": [
        {
          "output_type": "stream",
          "text": [
            "Write the square side: 1\n",
            "Double of the square area: 2\n"
          ],
          "name": "stdout"
        }
      ]
    },
    {
      "cell_type": "markdown",
      "metadata": {
        "id": "Vj4OXsJQziu_",
        "colab_type": "text"
      },
      "source": [
        "Crie um algoritmo em Python que pergunte quanto você ganha por hora e o número de horas trabalhadas no mês. Calcule e mostre o total do seu salário no referido mês.\n"
      ]
    },
    {
      "cell_type": "code",
      "metadata": {
        "id": "RmApGpg30D00",
        "colab_type": "code",
        "colab": {
          "base_uri": "https://localhost:8080/",
          "height": 68
        },
        "outputId": "69224c6f-7dfd-4591-b8a7-39b5fe9d8950"
      },
      "source": [
        "while True:\n",
        "  hours = input(\"Type how many hours is worked by month: \")\n",
        "  if hours.isnumeric():\n",
        "    hours = int(hours)\n",
        "    break\n",
        "while True:\n",
        "  rate = input(\"Type the hour rate: \")\n",
        "  if rate.isnumeric():\n",
        "    rate = int(rate)\n",
        "    break\n",
        "\n",
        "salary = hours*rate\n",
        "\n",
        "print(f\"Salary: {salary}\")"
      ],
      "execution_count": null,
      "outputs": [
        {
          "output_type": "stream",
          "text": [
            "Type how many hours is worked by month: 100\n",
            "Type the hour rate: 45\n",
            "Salary: 4500\n"
          ],
          "name": "stdout"
        }
      ]
    },
    {
      "cell_type": "markdown",
      "metadata": {
        "id": "e7id8Ewgzlow",
        "colab_type": "text"
      },
      "source": [
        "Crie um algoritmo em Python que peça a temperatura em graus Farenheit, transforme e mostre a temperatura em graus Celsius.\n",
        "C = (5 * (F-32) / 9)."
      ]
    },
    {
      "cell_type": "code",
      "metadata": {
        "id": "Kl0ainsv0Eif",
        "colab_type": "code",
        "colab": {
          "base_uri": "https://localhost:8080/",
          "height": 51
        },
        "outputId": "6cc13876-78a9-42d2-9e0c-64f6d19586b0"
      },
      "source": [
        "#function to convert from farenheit to celsious\n",
        "def convertFarenheitCelsius(f):\n",
        "  if  isinstance(f, float):\n",
        "    return 5*(f-32)\n",
        "\n",
        "while True:#while to assure the user types an number \n",
        "  try:\n",
        "    f = input(\"Type the temperature in farenheit: \")\n",
        "    f = float(f)\n",
        "    break\n",
        "  except ValueError:\n",
        "    print(\"Error: Not an float value\")\n",
        " \n",
        "\n",
        "print(convertFarenheitCelsius(f))\n",
        "\n"
      ],
      "execution_count": null,
      "outputs": [
        {
          "output_type": "stream",
          "text": [
            "Type the temperature in farenheit: 1\n",
            "-155.0\n"
          ],
          "name": "stdout"
        }
      ]
    },
    {
      "cell_type": "markdown",
      "metadata": {
        "id": "mFCgXRPaznno",
        "colab_type": "text"
      },
      "source": [
        "Crie um algoritmo em Python que peça a temperatura em graus Celsius, transforme e mostre em graus Farenheit."
      ]
    },
    {
      "cell_type": "code",
      "metadata": {
        "id": "xEAAHRi00FS8",
        "colab_type": "code",
        "colab": {
          "base_uri": "https://localhost:8080/",
          "height": 51
        },
        "outputId": "21674ed1-b57a-4f5b-d2d3-7a2baedd32db"
      },
      "source": [
        "def convertCelsiuosfahrenheit(c):\n",
        "  if  isinstance(c, float):\n",
        "    return c/5+32\n",
        "\n",
        "while True:\n",
        "  try:\n",
        "    c = input(\"Type the temperature in celsious: \")\n",
        "    c = float(c)\n",
        "    break\n",
        "  except ValueError:\n",
        "    print(\"Error: not an float value\")\n",
        "\n",
        "print(convertCelsiuosfahrenheit(c))       \n"
      ],
      "execution_count": null,
      "outputs": [
        {
          "output_type": "stream",
          "text": [
            "Type the temperature in celsious: 1\n",
            "32.2\n"
          ],
          "name": "stdout"
        }
      ]
    },
    {
      "cell_type": "markdown",
      "metadata": {
        "id": "j3fdhu-8zqu9",
        "colab_type": "text"
      },
      "source": [
        "Crie um algoritmo em Python que peça 2 números inteiros e um número real. Calcule e mostre:\n",
        "* a soma do dobro do primeiro com metade do segundo .\n",
        "* a soma do triplo do primeiro com o terceiro.\n",
        "* o terceiro elevado ao cubo."
      ]
    },
    {
      "cell_type": "code",
      "metadata": {
        "id": "ZEqZrKjt0F5B",
        "colab_type": "code",
        "colab": {
          "base_uri": "https://localhost:8080/",
          "height": 119
        },
        "outputId": "4fff6e94-ed33-425b-8134-3fb34103281f"
      },
      "source": [
        "while True:\n",
        "  try:\n",
        "    int1 = input(\"Type one integer number: \")\n",
        "    int1 = int(int1)\n",
        "    break\n",
        "  except ValueError:\n",
        "    print(\"Error: an integer was not found\") \n",
        " \n",
        "while True:\n",
        "  try:\n",
        "    int2 = input(\"Type another integer number: \")\n",
        "    int2 = int(int2)\n",
        "    break\n",
        "  except ValueError:\n",
        "    print(\"Error: an integer was not found\") \n",
        "while True:\n",
        "  try:\n",
        "    real = input(\"Type one real number: \")\n",
        "    real = float(real)\n",
        "    break\n",
        "  except ValueError:\n",
        "    print(\"Error: an integer was not found\") \n",
        "\n",
        "\n",
        "print(f\"First value - double of the first + half of the second: {2*int1 + int2/2}\")\n",
        "print(f\"Second value - 3 times the first + the third: {3*int1+ real}\")\n",
        "print(f\"Third value - The third value to the power of three: {real**3}\")\n",
        "\n",
        "\n",
        "\n",
        "\n",
        "\n"
      ],
      "execution_count": null,
      "outputs": [
        {
          "output_type": "stream",
          "text": [
            "Type one integer number: 2\n",
            "Type another integer number: 8\n",
            "Type one real number: 2.6\n",
            "First value - double of the first + half of the second: 8.0\n",
            "Second value - 3 times the first + the third: 8.6\n",
            "Third value - The third value to the power of three: 17.576\n"
          ],
          "name": "stdout"
        }
      ]
    }
  ]
}