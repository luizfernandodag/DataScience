{
  "nbformat": 4,
  "nbformat_minor": 0,
  "metadata": {
    "colab": {
      "name": "Fase2R.ipynb",
      "provenance": [],
      "collapsed_sections": [],
      "include_colab_link": true
    },
    "kernelspec": {
      "name": "ir",
      "display_name": "R"
    }
  },
  "cells": [
    {
      "cell_type": "markdown",
      "metadata": {
        "id": "view-in-github",
        "colab_type": "text"
      },
      "source": [
        "<a href=\"https://colab.research.google.com/github/luizfernandodag/DataScience/blob/master/Fase2R.ipynb\" target=\"_parent\"><img src=\"https://colab.research.google.com/assets/colab-badge.svg\" alt=\"Open In Colab\"/></a>"
      ]
    },
    {
      "cell_type": "markdown",
      "metadata": {
        "id": "Z2Kl9pfj0JKM",
        "colab_type": "text"
      },
      "source": [
        "# Seja ensinável e execute as tarefas compartilhadas. Por fins didáticos e para melhor separação mental das sintaxes Python/R, realizaremos todos os exercícios de Python em R.\n",
        "![alt text](https://media.tenor.com/images/51e469036910eb2ece677863200af5a8/tenor.gif)"
      ]
    },
    {
      "cell_type": "markdown",
      "metadata": {
        "id": "j9ZuOU7Kyh9O",
        "colab_type": "text"
      },
      "source": [
        "\n",
        "Crie um algoritmo em R que peça uma nota, entre 0 e 100. Mostre uma mensagem caso o valor seja inválido e continue pedindo até que o usuário informe um valor válido."
      ]
    },
    {
      "cell_type": "code",
      "metadata": {
        "id": "tlFupLd-ydTB",
        "colab_type": "code",
        "colab": {
          "base_uri": "https://localhost:8080/",
          "height": 90
        },
        "outputId": "8badebf7-db5f-4a7c-a431-fcb12b90e456"
      },
      "source": [
        "nota = -1\n",
        "while(nota <0 || nota >100)\n",
        "{\n",
        "nota = as.double(readline(\"Write a grade between 0 and 100\"))\n",
        "}\n",
        "\n",
        "print(nota)\n",
        "\n"
      ],
      "execution_count": null,
      "outputs": [
        {
          "output_type": "stream",
          "text": [
            "Write a grade between 0 and 100-3\n",
            "Write a grade between 0 and 1009000\n",
            "Write a grade between 0 and 1003\n",
            "[1] 3\n"
          ],
          "name": "stdout"
        }
      ]
    },
    {
      "cell_type": "markdown",
      "metadata": {
        "id": "yhw2owA-zbrn",
        "colab_type": "text"
      },
      "source": [
        "Crie um algoritmo em R que leia um nome de usuário e a sua senha e não aceite a senha igual ao nome do usuário, mostrando uma mensagem de erro e voltando a pedir as informações.<br>"
      ]
    },
    {
      "cell_type": "code",
      "metadata": {
        "id": "RJJtXkvV0qzj",
        "colab_type": "code",
        "colab": {
          "base_uri": "https://localhost:8080/",
          "height": 108
        },
        "outputId": "b60c2f92-467f-4b58-f33a-70972040736d"
      },
      "source": [
        "name = readline(\"Write your name: \")\n",
        "password = name\n",
        "\n",
        "while(password == name)\n",
        "{\n",
        "  password = readline(\"Type a password different from your name: \")\n",
        "}\n",
        "\n",
        "print(name)\n",
        "print(password)"
      ],
      "execution_count": null,
      "outputs": [
        {
          "output_type": "stream",
          "text": [
            "Write your name: luiz\n",
            "Type a password different from your name: luiz\n",
            "Type a password different from your name: password\n",
            "[1] \"luiz\"\n",
            "[1] \"password\"\n"
          ],
          "name": "stdout"
        }
      ]
    },
    {
      "cell_type": "markdown",
      "metadata": {
        "id": "35RwPIIF0w3i",
        "colab_type": "text"
      },
      "source": [
        "Crie um algoritmo em R que leia e valide as seguintes informações:\n",
        "* Nome: maior que 3 caracteres;\n",
        "* Idade: entre 0 e 150;\n",
        "* Salário: maior que zero;\n",
        "* Sexo: 'f' ou 'm';\n",
        "* Estado Civil: 's', 'c', 'v', 'd';"
      ]
    },
    {
      "cell_type": "code",
      "metadata": {
        "id": "NEFu-8L808HB",
        "colab_type": "code",
        "colab": {
          "base_uri": "https://localhost:8080/",
          "height": 199
        },
        "outputId": "e644bc33-c2a4-4096-a725-6141de478133"
      },
      "source": [
        "readName = function()\n",
        "{\n",
        "  name = \"\"\n",
        "  while(nchar(name) <=3)\n",
        "  {\n",
        "    name = readline(\"Name: \")\n",
        "  }\n",
        "  return (name)\n",
        "}\n",
        "\n",
        "readAge <- function()\n",
        "{\n",
        "  age = -1\n",
        "  while(age < 0 || age > 150 )\n",
        "  {\n",
        "    age = as.integer(readline(\"Age: \"))\n",
        "  }\n",
        "\n",
        "  return (age)\n",
        "\n",
        "}\n",
        "\n",
        "readSalary <- function()\n",
        "{\n",
        "  salary = -1\n",
        "  while(salary < 0)\n",
        "  {\n",
        "    salary = as.double(readline(\"Salary: \"))\n",
        "  }\n",
        "  return (salary)\n",
        "}\n",
        "\n",
        "readSex <- function()\n",
        "{\n",
        "  sex = ''\n",
        "  while(sex != 'f' && sex != 'm')\n",
        "  {\n",
        "    sex = readline(\"Sex: \")\n",
        "\n",
        "  }\n",
        "  return (sex)\n",
        "}\n",
        "\n",
        "readCivilState <- function()\n",
        "{\n",
        "  #Estado Civil: 's', 'c', 'v', 'd';\n",
        "  civilState = ''\n",
        "  while(civilState != 's' && civilState != 'c' && civilState != 'v' && civilState != 'd')\n",
        "  {\n",
        "    civilState = readline(\"Civil State: \")\n",
        "  }\n",
        "  return (civilState)\n",
        "}\n",
        "\n",
        "#Nome: maior que 3 caracteres;\n",
        "#Idade: entre 0 e 150;\n",
        "#Salário: maior que zero;\n",
        "#Sexo: 'f' ou 'm';\n",
        "#Estado Civil: 's', 'c', 'v', 'd';\n",
        "\n",
        "name = readName()\n",
        "age = readAge()\n",
        "salary = readSalary()\n",
        "sex = readSex()\n",
        "civilState = readCivilState()\n",
        "\n",
        "print(name)\n",
        "print(age)\n",
        "print(salary)\n",
        "print(sex)\n",
        "print(civilState)\n",
        "\n"
      ],
      "execution_count": null,
      "outputs": [
        {
          "output_type": "stream",
          "text": [
            "Name: luiz\n",
            "Age: 29\n",
            "Salary: 1000000\n",
            "Sex: m\n",
            "Civil State: s\n",
            "[1] \"luiz\"\n",
            "[1] 29\n",
            "[1] 1e+06\n",
            "[1] \"m\"\n",
            "[1] \"s\"\n"
          ],
          "name": "stdout"
        }
      ]
    },
    {
      "cell_type": "markdown",
      "metadata": {
        "id": "_OGQmoYA08bI",
        "colab_type": "text"
      },
      "source": [
        "Supondo que a população de um país A seja da ordem de 80000 habitantes com uma taxa anual de crescimento de 3% e que a população de B seja 200000 habitantes com uma taxa de crescimento de 1.5%.<br><br> Crie um algoritmo em R que calcule e escreva o número de anos necessários para que a população do país A ultrapasse ou iguale a população do país B, mantidas as taxas de crescimento."
      ]
    },
    {
      "cell_type": "code",
      "metadata": {
        "id": "xxgmQ5j21Abx",
        "colab_type": "code",
        "colab": {
          "base_uri": "https://localhost:8080/",
          "height": 35
        },
        "outputId": "6648de4a-f6c8-4b76-ccda-440f8a094ac9"
      },
      "source": [
        "populationA = 80000\n",
        "populationB = 200000\n",
        "rateA = 3/100+1\n",
        "rateB = 1.5/100 + 1\n",
        "\n",
        "\n",
        "nMin = (log(populationB) - log(populationA))/(log(rateA) - log(rateB))\n",
        "nMin\n"
      ],
      "execution_count": null,
      "outputs": [
        {
          "output_type": "display_data",
          "data": {
            "text/plain": [
              "[1] 62.45936"
            ],
            "text/latex": "62.4593647135307",
            "text/markdown": "62.4593647135307",
            "text/html": [
              "62.4593647135307"
            ]
          },
          "metadata": {
            "tags": []
          }
        }
      ]
    },
    {
      "cell_type": "markdown",
      "metadata": {
        "id": "kP9TOwKo1AnS",
        "colab_type": "text"
      },
      "source": [
        "Desenvolva um gerador de tabuada, capaz de gerar a tabuada de qualquer número inteiro entre 1 a 10. O usuário deve informar de qual numero ele deseja ver a tabuada. A saída deve ser conforme o exemplo abaixo:\n",
        "Tabuada de 5:<br>\n",
        "5 X 1 = 5<br>\n",
        "5 X 2 = 10<br>\n",
        "...<br>\n",
        "5 X 10 = 50<br>"
      ]
    },
    {
      "cell_type": "code",
      "metadata": {
        "id": "Tj5xsjC-1D5I",
        "colab_type": "code",
        "colab": {
          "base_uri": "https://localhost:8080/",
          "height": 217
        },
        "outputId": "f9b5ef78-c04a-4641-e11c-f90a4ec622cf"
      },
      "source": [
        "num = as.integer(readline(\"Qual numero vc deseja ver a tabuada: \"))\n",
        "for(i in 1:10)\n",
        "{\n",
        "  result = paste(toString(num),\"X\",toString(i),\" = \", toString(num*i),sep=\" \")\n",
        "  print(result)\n",
        "}"
      ],
      "execution_count": null,
      "outputs": [
        {
          "output_type": "stream",
          "text": [
            "Qual numero vc deseja ver a tabuada: 5\n",
            "[1] \"5 X 1  =  5\"\n",
            "[1] \"5 X 2  =  10\"\n",
            "[1] \"5 X 3  =  15\"\n",
            "[1] \"5 X 4  =  20\"\n",
            "[1] \"5 X 5  =  25\"\n",
            "[1] \"5 X 6  =  30\"\n",
            "[1] \"5 X 7  =  35\"\n",
            "[1] \"5 X 8  =  40\"\n",
            "[1] \"5 X 9  =  45\"\n",
            "[1] \"5 X 10  =  50\"\n"
          ],
          "name": "stdout"
        }
      ]
    },
    {
      "cell_type": "markdown",
      "metadata": {
        "id": "6vgD9pl81EGd",
        "colab_type": "text"
      },
      "source": [
        "Crie um algoritmo em R que leia três números e mostre o maior e o menor deles."
      ]
    },
    {
      "cell_type": "code",
      "metadata": {
        "id": "3h1VOEuR1KGz",
        "colab_type": "code",
        "colab": {
          "base_uri": "https://localhost:8080/",
          "height": 70
        },
        "outputId": "41531240-756d-4765-89ab-743f13481992"
      },
      "source": [
        "txt = readline(\"Digite 3 numeros: \")\n",
        "numeros <- as.double(unlist(strsplit(txt, split = \" \")))\n",
        "#numeros <- as.double(unlist(strsplit(txt, split = \" \")))\n",
        "bigger = numeros[1] #-1*.Machine$integer.max\n",
        "smaller = numeros[1] #.Machine$integer.max\n",
        "for(i in 2:3)\n",
        "{\n",
        "  if(numeros[i]>bigger)\n",
        "  {\n",
        "    bigger = numeros[i]\n",
        "  }\n",
        "  else if ( numeros[i] < smaller)\n",
        "  {\n",
        "    smaller = numeros[i]\n",
        "  }\n",
        "\n",
        "}\n",
        "\n",
        "paste(\"Bigger: \", bigger)\n",
        "paste(\"Smallest: \", smaller)"
      ],
      "execution_count": null,
      "outputs": [
        {
          "output_type": "stream",
          "text": [
            "Digite 3 numeros: 1 3 5\n"
          ],
          "name": "stdout"
        },
        {
          "output_type": "display_data",
          "data": {
            "text/plain": [
              "[1] \"Bigger:  5\""
            ],
            "text/latex": "'Bigger:  5'",
            "text/markdown": "<span style=white-space:pre-wrap>'Bigger:  5'</span>",
            "text/html": [
              "<span style=white-space:pre-wrap>'Bigger:  5'</span>"
            ]
          },
          "metadata": {
            "tags": []
          }
        },
        {
          "output_type": "display_data",
          "data": {
            "text/plain": [
              "[1] \"Smallest:  1\""
            ],
            "text/latex": "'Smallest:  1'",
            "text/markdown": "<span style=white-space:pre-wrap>'Smallest:  1'</span>",
            "text/html": [
              "<span style=white-space:pre-wrap>'Smallest:  1'</span>"
            ]
          },
          "metadata": {
            "tags": []
          }
        }
      ]
    },
    {
      "cell_type": "markdown",
      "metadata": {
        "id": "QXhvPnMQ1Kd6",
        "colab_type": "text"
      },
      "source": [
        "Crie um algoritmo em R que peça 2 números, base e expoente, calcule e mostre o primeiro número elevado ao segundo número. Não utilize a função de potência da linguagem."
      ]
    },
    {
      "cell_type": "code",
      "metadata": {
        "id": "ywZkuhmt1N7l",
        "colab_type": "code",
        "colab": {
          "base_uri": "https://localhost:8080/",
          "height": 71
        },
        "outputId": "4c447a4e-18da-42e6-9b46-85e69bbc3702"
      },
      "source": [
        "base = as.double(readline(\"Base: \"))\n",
        "exp = as.double(readline(\"Exp: \"))\n",
        "\n",
        "result = base**exp\n",
        "paste(\"Result: \", result)"
      ],
      "execution_count": null,
      "outputs": [
        {
          "output_type": "stream",
          "text": [
            "Base: 2\n",
            "Exp: 3\n"
          ],
          "name": "stdout"
        },
        {
          "output_type": "display_data",
          "data": {
            "text/plain": [
              "[1] \"Result:  8\""
            ],
            "text/latex": "'Result:  8'",
            "text/markdown": "<span style=white-space:pre-wrap>'Result:  8'</span>",
            "text/html": [
              "<span style=white-space:pre-wrap>'Result:  8'</span>"
            ]
          },
          "metadata": {
            "tags": []
          }
        }
      ]
    },
    {
      "cell_type": "markdown",
      "metadata": {
        "id": "F-rpjggB1T5G",
        "colab_type": "text"
      },
      "source": [
        "Crie um algoritmo em R que peça 10 números inteiros, calcule e mostre a quantidade de números pares e a quantidade de números impares."
      ]
    },
    {
      "cell_type": "code",
      "metadata": {
        "id": "nvMchfOZ2_vC",
        "colab_type": "code",
        "colab": {
          "base_uri": "https://localhost:8080/",
          "height": 88
        },
        "outputId": "e6ba15b0-e048-4d74-bcc9-47869ce59d8d"
      },
      "source": [
        "\n",
        "numeros = 0\n",
        "while(length(numeros)!=10)\n",
        "{\n",
        "numero = readline(\"10 numbers\")\n",
        "numeros = as.double(unlist(strsplit(numero, \" \")))\n",
        "}\n",
        "numeros = as.integer(runif(10, min = 0, max = 25))     \n",
        "\n",
        "numEven = 0\n",
        "numOdd = 0\n",
        "for(i in 1:10)\n",
        "{\n",
        "  if(numeros[i]%%2 == 0)\n",
        "  numEven = numEven + 1\n",
        "  else\n",
        "  numOdd = numOdd + 1 \n",
        "  \n",
        "\n",
        "}\n",
        "print(numeros)\n",
        "paste(\"#Even numbers:  \", numEven)\n",
        "paste(\"#Odd numbers: \", numOdd)\n"
      ],
      "execution_count": null,
      "outputs": [
        {
          "output_type": "stream",
          "text": [
            "10 numbers1 2 3 4 5 6 7 8 9 10\n",
            " [1] 13  7  6 19  5  1  0 22  1 12\n"
          ],
          "name": "stdout"
        },
        {
          "output_type": "display_data",
          "data": {
            "text/plain": [
              "[1] \"#Even numbers:   4\""
            ],
            "text/latex": "'\\#Even numbers:   4'",
            "text/markdown": "<span style=white-space:pre-wrap>'#Even numbers:   4'</span>",
            "text/html": [
              "<span style=white-space:pre-wrap>'#Even numbers:   4'</span>"
            ]
          },
          "metadata": {
            "tags": []
          }
        },
        {
          "output_type": "display_data",
          "data": {
            "text/plain": [
              "[1] \"#Odd numbers:  6\""
            ],
            "text/latex": "'\\#Odd numbers:  6'",
            "text/markdown": "<span style=white-space:pre-wrap>'#Odd numbers:  6'</span>",
            "text/html": [
              "<span style=white-space:pre-wrap>'#Odd numbers:  6'</span>"
            ]
          },
          "metadata": {
            "tags": []
          }
        }
      ]
    },
    {
      "cell_type": "markdown",
      "metadata": {
        "id": "C-H4OWh03DFn",
        "colab_type": "text"
      },
      "source": [
        "Um funcionário de uma empresa recebe aumento salarial anualmente: Sabe-se que: Esse funcionário foi contratado em 1995, com salário inicial de R$ 1.000,00; Em 1996 recebeu aumento de 1,5% sobre seu salário inicial; A partir de 1997 (inclusive), os aumentos salariais sempre correspondem ao dobro do percentual do ano anterior. Crie um algoritmo em R que determine o salário atual desse funcionário. Após concluir isto, altere o programa permitindo que o usuário digite o salário inicial do funcionário"
      ]
    },
    {
      "cell_type": "code",
      "metadata": {
        "id": "vs5qFAKx3Eyi",
        "colab_type": "code",
        "colab": {
          "base_uri": "https://localhost:8080/",
          "height": 490
        },
        "outputId": "507e8720-1065-4440-86a6-d4506c1c0687"
      },
      "source": [
        "salarioInicial = as.double(readline(\"Salario: \"))\n",
        "rase1996 = 1.5/100\n",
        "#get system date\n",
        "date = Sys.time()\n",
        "#adjust format\n",
        "date = as.Date(date, \"%Y-%m-%d\")\n",
        "\n",
        "#extract year\n",
        "year = as.integer(format(date, \"%Y\"))\n",
        "\n",
        "salarioFinal = salarioInicial *(1+ rase1996)\n",
        "rase = rase1996\n",
        "for( i in 1997:year)\n",
        "{\n",
        "  \n",
        "  rase = rase*2\n",
        "  salarioFinal = salarioFinal*(1+rase)\n",
        "  result = paste(toString(i),\": \", toString(salarioFinal),sep=\" \")\n",
        "  print(result)\n",
        "  \n",
        "  \n",
        "}\n",
        "  result = paste(toString(i),\": \", toString(salarioFinal),sep=\" \")\n",
        "  print(result)\n",
        "\n",
        "\n"
      ],
      "execution_count": null,
      "outputs": [
        {
          "output_type": "stream",
          "text": [
            "Salario: 1000\n",
            "[1] \"1997 :  1045.45\"\n",
            "[1] \"1998 :  1108.177\"\n",
            "[1] \"1999 :  1241.15824\"\n",
            "[1] \"2000 :  1539.0362176\"\n",
            "[1] \"2001 :  2277.773602048\"\n",
            "[1] \"2002 :  4464.43626001408\"\n",
            "[1] \"2003 :  13036.1538792411\"\n",
            "[1] \"2004 :  63094.984775527\"\n",
            "[1] \"2005 :  547664.467851574\"\n",
            "[1] \"2006 :  8959790.69405175\"\n",
            "[1] \"2007 :  284204560.815322\"\n",
            "[1] \"2008 :  17745732777.3087\"\n",
            "[1] \"2009 :  2198341376453\"\n",
            "[1] \"2010 :  542462718053542\"\n",
            "[1] \"2011 :  267173737895730528\"\n",
            "[1] \"2012 :  2.62909645038915e+20\"\n",
            "[1] \"2013 :  5.17164304563148e+23\"\n",
            "[1] \"2014 :  2.03408995613559e+27\"\n",
            "[1] \"2015 :  1.59987684137924e+31\"\n",
            "[1] \"2016 :  2.51654867592325e+35\"\n",
            "[1] \"2017 :  7.9166292880823e+39\"\n",
            "[1] \"2018 :  4.98079164972099e+44\"\n",
            "[1] \"2019 :  6.2673361097939e+49\"\n",
            "[1] \"2020 :  1.57723304221529e+55\"\n",
            "[1] \"2020 :  1.57723304221529e+55\"\n"
          ],
          "name": "stdout"
        }
      ]
    },
    {
      "cell_type": "markdown",
      "metadata": {
        "id": "PGccudSo3E54",
        "colab_type": "text"
      },
      "source": [
        "Crie um algoritmo em R com uma função que necessite de um argumento. A função retorna o valor de caractere ‘P’, se seu argumento for positivo, e ‘N’, se seu argumento for zero ou negativo."
      ]
    },
    {
      "cell_type": "code",
      "metadata": {
        "id": "_zfLyopV3IqV",
        "colab_type": "code",
        "colab": {
          "base_uri": "https://localhost:8080/",
          "height": 53
        },
        "outputId": "188ea15a-317d-4987-89b8-9d227065ec7f"
      },
      "source": [
        "verifySign = function(n)\n",
        "{\n",
        "  if(n<0)\n",
        "  {\n",
        "    return ('N')\n",
        "  }\n",
        "  else\n",
        "  {\n",
        "    return ('P')\n",
        "  }\n",
        "\n",
        "}\n",
        "\n",
        "num = as.double(readline(\"Number: \"))\n",
        "sign = verifySign(num)\n",
        "paste(\"Sign: \", sign)\n"
      ],
      "execution_count": null,
      "outputs": [
        {
          "output_type": "stream",
          "text": [
            "Number: -8\n"
          ],
          "name": "stdout"
        },
        {
          "output_type": "display_data",
          "data": {
            "text/plain": [
              "[1] \"Sign:  N\""
            ],
            "text/latex": "'Sign:  N'",
            "text/markdown": "<span style=white-space:pre-wrap>'Sign:  N'</span>",
            "text/html": [
              "<span style=white-space:pre-wrap>'Sign:  N'</span>"
            ]
          },
          "metadata": {
            "tags": []
          }
        }
      ]
    },
    {
      "cell_type": "markdown",
      "metadata": {
        "id": "bu3Zyati3Iwc",
        "colab_type": "text"
      },
      "source": [
        "Construa uma função que receba uma data no formato DD/MM/AAAA e devolva uma string no formato D de mesPorExtenso de AAAA. Opcionalmente, valide a data e retorne NULL caso a data seja inválida."
      ]
    },
    {
      "cell_type": "code",
      "metadata": {
        "id": "Peo4D5Sz3PDC",
        "colab_type": "code",
        "colab": {
          "base_uri": "https://localhost:8080/",
          "height": 72
        },
        "outputId": "d2ad70f8-ef37-4498-8a0e-8ff84258d31a"
      },
      "source": [
        "\n",
        "\n",
        "IsDate <- function(mydate, date.format = \"%d/%m/%Y\") {\n",
        "  tryCatch(!is.na(as.Date(mydate, date.format)),  \n",
        "           error = function(err) {FALSE})  \n",
        "}\n",
        "date = 0\n",
        "\n",
        "while(!IsDate(date))\n",
        "{\n",
        "  date = readline(\"Date: \")\n",
        "}\n",
        "\n",
        "print(date)\n",
        "date = as.Date(date, \"%d/%m/%Y\")\n",
        "\n",
        "#extract day month and year\n",
        "d = as.integer(format(date, \"%d\"))\n",
        "m = as.integer(format(date, \"%m\"))\n",
        "y = as.integer(format(date, \"%Y\"))\n",
        "\n",
        "#construct the final string\n",
        "result = paste(toString(d),\"de\", month.name[m], \"de\", toString(y))\n",
        "print(result)"
      ],
      "execution_count": null,
      "outputs": [
        {
          "output_type": "stream",
          "text": [
            "Date: 1/1/2020\n",
            "[1] \"1/1/2020\"\n",
            "[1] \"1 de January de 2020\"\n"
          ],
          "name": "stdout"
        }
      ]
    },
    {
      "cell_type": "code",
      "metadata": {
        "id": "JCINbs00hesy",
        "colab_type": "code",
        "colab": {}
      },
      "source": [
        ""
      ],
      "execution_count": null,
      "outputs": []
    }
  ]
}