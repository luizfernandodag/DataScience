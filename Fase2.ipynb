{
  "nbformat": 4,
  "nbformat_minor": 0,
  "metadata": {
    "colab": {
      "name": "Fase2.ipynb",
      "provenance": [],
      "include_colab_link": true
    },
    "kernelspec": {
      "name": "python3",
      "display_name": "Python 3"
    }
  },
  "cells": [
    {
      "cell_type": "markdown",
      "metadata": {
        "id": "view-in-github",
        "colab_type": "text"
      },
      "source": [
        "<a href=\"https://colab.research.google.com/github/luizfernandodag/DataScience/blob/master/Fase2.ipynb\" target=\"_parent\"><img src=\"https://colab.research.google.com/assets/colab-badge.svg\" alt=\"Open In Colab\"/></a>"
      ]
    },
    {
      "cell_type": "markdown",
      "metadata": {
        "id": "CYNAmoj4zSXl",
        "colab_type": "text"
      },
      "source": [
        "Crie um algoritmo em Python que peça 2 números e imprima o maior deles."
      ]
    },
    {
      "cell_type": "code",
      "metadata": {
        "id": "ViAfpy3GzPN-",
        "colab_type": "code",
        "colab": {
          "base_uri": "https://localhost:8080/",
          "height": 68
        },
        "outputId": "6a57ef5d-af32-4ad3-b4cd-63468bf7eb54"
      },
      "source": [
        "while True:\n",
        "  try:\n",
        "    val1 = input(\"Type one number: \")\n",
        "    val1 = float(val1)\n",
        "    break\n",
        "  except ValueError:\n",
        "    print(\"Error: an number was not found\")\n",
        "\n",
        "while True:\n",
        "  try:\n",
        "    val2 = input(\"Type another number: \")\n",
        "    val2 = float(val2)\n",
        "    break\n",
        "  except ValueError:\n",
        "    print(\"Error: an number was not found\")\n",
        "\n",
        "if val1 > val2:\n",
        "  biggest = val1\n",
        "else:\n",
        "  biggest = val2\n",
        "\n",
        "print(f\"Biggest value: {biggest}\")  "
      ],
      "execution_count": null,
      "outputs": [
        {
          "output_type": "stream",
          "text": [
            "Type one number: 2\n",
            "Type another number: 1\n",
            "Biggest value: 2.0\n"
          ],
          "name": "stdout"
        }
      ]
    },
    {
      "cell_type": "markdown",
      "metadata": {
        "id": "gdMis92izSmQ",
        "colab_type": "text"
      },
      "source": [
        "\n",
        "Crie um algoritmo em Python que peça um valor e mostre na tela se o valor é positivo ou negativo."
      ]
    },
    {
      "cell_type": "code",
      "metadata": {
        "id": "BFpWkdCBz_zh",
        "colab_type": "code",
        "colab": {
          "base_uri": "https://localhost:8080/",
          "height": 68
        },
        "outputId": "ab8e00f4-6a5d-43f1-f8a3-86f9bd18b8b4"
      },
      "source": [
        "while True:\n",
        "  try:\n",
        "    val1 = input(\"Type one number: \")\n",
        "    val1 = float(val1)\n",
        "    break\n",
        "  except ValueError:\n",
        "    print(\"Error: an number was not found\")\n",
        "\n",
        "\n",
        "if val1 > 0:\n",
        "  print(\"Positivo\")\n",
        "else:\n",
        "  print(\"Negativo\")\n"
      ],
      "execution_count": null,
      "outputs": [
        {
          "output_type": "stream",
          "text": [
            "Type one number: 1\n",
            "Positivo\n",
            "4.213991769547324\n"
          ],
          "name": "stdout"
        }
      ]
    },
    {
      "cell_type": "markdown",
      "metadata": {
        "id": "E_0l_Vx6zSo2",
        "colab_type": "text"
      },
      "source": [
        "Crie um algoritmo em Python que verifique se uma letra digitada é vogal ou consoante."
      ]
    },
    {
      "cell_type": "code",
      "metadata": {
        "id": "KwJf7XZS0AZW",
        "colab_type": "code",
        "colab": {
          "base_uri": "https://localhost:8080/",
          "height": 51
        },
        "outputId": "0f7d3eef-8b05-4d6e-8fea-89c59176d421"
      },
      "source": [
        "while True:\n",
        "  letter = input('Enter a letter:')\n",
        "  letter = letter.lower()\n",
        "\n",
        "  if len(letter) > 0 and letter.isalpha():\n",
        "    break\n",
        "\n",
        "if letter == \"a\" or letter == \"e\" or letter == \"i\" or letter == \"o\" or letter == \"u\":\n",
        "  print(\"vogal\")\n",
        "else:\n",
        "  print(\"consoante\")"
      ],
      "execution_count": null,
      "outputs": [
        {
          "output_type": "stream",
          "text": [
            "Enter a letter:a\n",
            "vogal\n"
          ],
          "name": "stdout"
        }
      ]
    },
    {
      "cell_type": "markdown",
      "metadata": {
        "id": "1i4VCiiczSrL",
        "colab_type": "text"
      },
      "source": [
        "Faça um programa para a leitura de duas notas parciais de um aluno. O programa deve calcular a média alcançada por aluno e apresentar:\n",
        "* \"Aprovado\", se a média alcançada for maior ou igual a sete;\n",
        "* \"Reprovado\", se a média for menor do que sete;\n",
        "* \"Aprovado com Distinção\", se a média for igual a 10."
      ]
    },
    {
      "cell_type": "code",
      "metadata": {
        "id": "yoW67hjA0BHy",
        "colab_type": "code",
        "colab": {
          "base_uri": "https://localhost:8080/",
          "height": 68
        },
        "outputId": "d7d78ab1-41d3-4784-a05f-c44f0aa4eb74"
      },
      "source": [
        "def readGrade():\n",
        "  while True:\n",
        "    try:\n",
        "      grade = input(\"Write the students grade: \")\n",
        "      grade = float(grade)\n",
        "      break\n",
        "    except ValueError:\n",
        "      print(\"Error: an number couldn't be read\")\n",
        "    \n",
        "  return grade\n",
        "  \n",
        "\n",
        "grade1 = readGrade()\n",
        "grade2 = readGrade()\n",
        "\n",
        "mean = (grade1 + grade2)/2\n",
        "\n",
        "if mean >= 7 and mean < 10: \n",
        "  print(\"Aprovado\")\n",
        "elif mean < 7:\n",
        "  print(\"Reprovado\")\n",
        "elif mean == 10:\n",
        "  print(\"Aprovado com distincao\")\n",
        "\n",
        "\n"
      ],
      "execution_count": null,
      "outputs": [
        {
          "output_type": "stream",
          "text": [
            "Write the students grade: 10\n",
            "Write the students grade: 10\n",
            "Aprovado com distincao\n"
          ],
          "name": "stdout"
        }
      ]
    },
    {
      "cell_type": "markdown",
      "metadata": {
        "id": "4ep7kezvzStO",
        "colab_type": "text"
      },
      "source": [
        "Crie um algoritmo em Python que leia três números e mostre o maior deles."
      ]
    },
    {
      "cell_type": "code",
      "metadata": {
        "id": "6K6IHWdr0Blt",
        "colab_type": "code",
        "colab": {}
      },
      "source": [
        "def readGrade():\n",
        "  while True:\n",
        "    try:\n",
        "      grade = input(\"Write the students grade: \")\n",
        "      grade = float(grade)\n",
        "      break\n",
        "    except ValueError:\n",
        "      print(\"Error: an number couldn't be read\")\n",
        "    \n",
        "  return grade"
      ],
      "execution_count": null,
      "outputs": []
    },
    {
      "cell_type": "markdown",
      "metadata": {
        "id": "u6__NaXqzeYg",
        "colab_type": "text"
      },
      "source": [
        "Crie um algoritmo em Python que leia três números e mostre o maior e o menor deles."
      ]
    },
    {
      "cell_type": "code",
      "metadata": {
        "id": "mm2L7g3x0Cfx",
        "colab_type": "code",
        "colab": {
          "base_uri": "https://localhost:8080/",
          "height": 68
        },
        "outputId": "17593faf-2a84-4df0-fbd8-d61f847ee965"
      },
      "source": [
        "def readNNumbers(n):\n",
        "  while True:\n",
        "    x = list(map(float, input(f\"Enter {n} values: \").split())) \n",
        "    if len(x) == n:\n",
        "      break\n",
        "  return x\n",
        "\n",
        "def getMax(l):\n",
        "  max = 0\n",
        "  for i in l:\n",
        "    if i > max:\n",
        "      max = i\n",
        "  return max\n",
        "\n",
        "print(f\"Max value: {getMax(readNNumbers(3))}\")  \n",
        "  "
      ],
      "execution_count": null,
      "outputs": [
        {
          "output_type": "stream",
          "text": [
            "Enter 3 values: 1 3 5 5\n",
            "Enter 3 values: 3 444 5\n",
            "Max value: 444.0\n"
          ],
          "name": "stdout"
        }
      ]
    },
    {
      "cell_type": "markdown",
      "metadata": {
        "id": "lIlfG-ATzgOr",
        "colab_type": "text"
      },
      "source": [
        "Faça um programa que pergunte o preço de 5 produtos e informe qual produto você deve comprar, sabendo que a decisão é sempre pelo mais barato."
      ]
    },
    {
      "cell_type": "code",
      "metadata": {
        "id": "-y4pB6br0DD_",
        "colab_type": "code",
        "colab": {
          "base_uri": "https://localhost:8080/",
          "height": 153
        },
        "outputId": "fe3ec7d7-f958-49f2-b0cf-44114daf1caf"
      },
      "source": [
        "minVal = float('inf')\n",
        "\n",
        "for i in range(0,5):\n",
        "  while True:\n",
        "    try:\n",
        "      val = input(f\"Type the price of the product {i}: \")\n",
        "      val = float(val)\n",
        "      break\n",
        "    except ValueError:\n",
        "      print(\"Error: an number couldn't be read\")\n",
        "  if val < minVal:\n",
        "    minVal = val\n",
        "\n",
        "print(f\"Cheapest product price: {minVal}\")\n",
        "\n",
        "\n",
        "\n",
        "\n",
        "\n",
        "\n",
        "\n",
        "\n",
        "    \n"
      ],
      "execution_count": null,
      "outputs": [
        {
          "output_type": "stream",
          "text": [
            "Type the price of the product 0: 1\n",
            "Type the price of the product 1: 2\n",
            "Type the price of the product 2: 3\n",
            "Type the price of the product 3: a\n",
            "Error: an number couldn't be read\n",
            "Type the price of the product 3: 1\n",
            "Type the price of the product 4: 2\n",
            "Cheapest product price: 1.0\n"
          ],
          "name": "stdout"
        }
      ]
    },
    {
      "cell_type": "markdown",
      "metadata": {
        "id": "Vj4OXsJQziu_",
        "colab_type": "text"
      },
      "source": [
        "Crie um algoritmo em Python que leia três números e mostre-os em ordem decrescente."
      ]
    },
    {
      "cell_type": "code",
      "metadata": {
        "id": "RmApGpg30D00",
        "colab_type": "code",
        "colab": {
          "base_uri": "https://localhost:8080/",
          "height": 51
        },
        "outputId": "7422c399-a1ac-439a-b146-0b8f44df4733"
      },
      "source": [
        "def readNNumbers(n):\n",
        "  while True:\n",
        "    x = list(map(float, input(f\"Enter {n} values: \").split())) \n",
        "    if len(x) == n:\n",
        "      break\n",
        "  return x\n",
        "\n",
        "lista = readNNumbers(3)\n",
        "\n",
        "lista.sort(reverse=True)\n",
        "\n",
        "print(lista)\n",
        "\n"
      ],
      "execution_count": null,
      "outputs": [
        {
          "output_type": "stream",
          "text": [
            "Enter 3 values: 1 4 2\n",
            "[4.0, 2.0, 1.0]\n"
          ],
          "name": "stdout"
        }
      ]
    },
    {
      "cell_type": "markdown",
      "metadata": {
        "id": "e7id8Ewgzlow",
        "colab_type": "text"
      },
      "source": [
        "As Organizações Mendéz resolveram dar um aumento de salário aos seus colaboradores e lhe contraram para desenvolver o programa que calculará os reajustes em Python. Faça um programa que receba o salário de um colaborador e o reajuste segundo o seguinte critério, baseado no salário atual:\n",
        "\n",
        "* salários entre 680,00 e 800,00 : aumento de 15%<br>\n",
        "* salários entre 800,00 e 2500,00 : aumento de 10%<br>\n",
        "* salários de 2500,00 em diante : aumento de 5% após o aumento ser realizado.\n",
        "\n",
        "Informe na tela:\n",
        "* o salário antes do reajuste;\n",
        "* o percentual de aumento aplicado;\n",
        "* o valor do aumento;\n",
        "* o novo salário, após o aumento."
      ]
    },
    {
      "cell_type": "code",
      "metadata": {
        "id": "Kl0ainsv0Eif",
        "colab_type": "code",
        "colab": {
          "base_uri": "https://localhost:8080/",
          "height": 102
        },
        "outputId": "b324a66d-2fad-46d8-937c-c91adcc16b9a"
      },
      "source": [
        "def readNumber(s):\n",
        "  while True:\n",
        "    try:\n",
        "      number = input(s)\n",
        "      number = float(number)\n",
        "      break\n",
        "    except ValueError:\n",
        "      print(\"Error: an number couldn't be read\")\n",
        "    \n",
        "  return number\n",
        "\n",
        "salary = readNumber(\"Type the employee salary: \")\n",
        "newSalary = 0\n",
        "rase = 0\n",
        "if salary > 680 and salary < 800:\n",
        "  rase = 0.15\n",
        "elif salary> 800 and salary < 2500:\n",
        "  rase = 0.1\n",
        "elif salary> 2500:\n",
        "  rase = 0.05\n",
        "\n",
        "newSalary = salary*(1+rase)\n",
        "\n",
        "print(f\"Old salary: {salary}\")\n",
        "print(f\"Rase: {rase*100}%\")\n",
        "print(f\"How much of rase: {rase*salary}\")\n",
        "print(f\"New salary: {newSalary}\")\n",
        "\n",
        "\n"
      ],
      "execution_count": null,
      "outputs": [
        {
          "output_type": "stream",
          "text": [
            "Type the employee salary: 3000\n",
            "Old salary: 3000.0\n",
            "Rase: 5.0%\n",
            "How much of rase: 150.0\n",
            "New salary: 3150.0\n"
          ],
          "name": "stdout"
        }
      ]
    },
    {
      "cell_type": "code",
      "metadata": {
        "id": "ENAYLM6O2JP2",
        "colab_type": "code",
        "colab": {
          "base_uri": "https://localhost:8080/",
          "height": 51
        },
        "outputId": "0b7943e3-778d-4530-dbed-e26586d075f1"
      },
      "source": [
        "from statistics import mean \n",
        "notas = list(map(float, input(f\"Digite 4 notas: \").split()))\n",
        "print(mean(notas))"
      ],
      "execution_count": null,
      "outputs": [
        {
          "output_type": "stream",
          "text": [
            "Digite 4 notas: 1 2 3 4\n",
            "2.5\n"
          ],
          "name": "stdout"
        }
      ]
    }
  ]
}