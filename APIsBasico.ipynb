{
  "nbformat": 4,
  "nbformat_minor": 0,
  "metadata": {
    "colab": {
      "name": "APIsBasico.ipynb",
      "provenance": [],
      "include_colab_link": true
    },
    "kernelspec": {
      "name": "python3",
      "display_name": "Python 3"
    }
  },
  "cells": [
    {
      "cell_type": "markdown",
      "metadata": {
        "id": "view-in-github",
        "colab_type": "text"
      },
      "source": [
        "<a href=\"https://colab.research.google.com/github/luizfernandodag/DataScience/blob/master/APIsBasico.ipynb\" target=\"_parent\"><img src=\"https://colab.research.google.com/assets/colab-badge.svg\" alt=\"Open In Colab\"/></a>"
      ]
    },
    {
      "cell_type": "markdown",
      "metadata": {
        "id": "RNDx8IXexIET",
        "colab_type": "text"
      },
      "source": [
        "## APIs\n",
        "Interface de Programação de Aplicação, é um conjunto de rotinas e padrões estabelecidos por um software para a utilização das suas funcionalidades por aplicativos que não pretendem envolver-se em detalhes da implementação do software, mas apenas usar seus serviços.\n"
      ]
    },
    {
      "cell_type": "code",
      "metadata": {
        "id": "WeYyyn7-xHSU",
        "colab_type": "code",
        "colab": {
          "base_uri": "https://localhost:8080/",
          "height": 1000
        },
        "outputId": "51f48220-5bd2-4c4e-d9b9-87d6e44d278e"
      },
      "source": [
        "# newsapi.org\n",
        "import json\n",
        "import requests\n",
        "\n",
        "try:\n",
        "  req = requests.get('https://newsapi.org/v2/top-headlines?country=br&category=technology&apiKey=be8e91e06d5b42ccbcb887ccbfb001f5')\n",
        "  noticias = json.loads(req.text)\n",
        "  for news in noticias['articles']:\n",
        "    titulo = news['title']\n",
        "    link = news['url']\n",
        "    desc = news['description']\n",
        "    mensagem = f'{titulo}\\n{desc}\\n{link}'\n",
        "    print(mensagem)\n",
        "    print()\n",
        "except Exception as e:\n",
        "  print(f\"Não desta vez! Erro encontrado: {e}\")"
      ],
      "execution_count": null,
      "outputs": [
        {
          "output_type": "stream",
          "text": [
            "Imposto de placas de vídeo pode cair de 31 para 2% com decisão da Justiça Federal - Adrenaline\n",
            "Veja notícia completa: https://adrenaline.com.br/noticias/v/64249/imposto-de-placas-de-video-pode-cair-de-31-para-2-com-decisao-da-justica-federal SITE OFICI...\n",
            "https://www.youtube.com/watch?v=HuofUWZhGDc\n",
            "\n",
            "WhatsApp libera atualização com novo recurso para o sistema Android - Metro Jornal\n",
            "Metro Jornal - 2020/05/26\n",
            "https://www.metrojornal.com.br/estilo-vida/2020/05/26/whatsapp-deve-liberar-nova-atualizacao-para-android-nos-proximos-dias-2.html\n",
            "\n",
            "Cortex-A78 é o novo núcleo da ARM para CPUs de alto desempenho - Tecnoblog\n",
            "Além do núcleo Cortex-A78 para processadores móveis de alto desempenho, ARM anunciou GPU Mali-G78 e NPU (para IA) Ethos-N78\n",
            "https://tecnoblog.net/341714/arm-anuncia-nucleo-cortex-a78-gpu-mali-g78/\n",
            "\n",
            "Aras deve rejeitar pedido de apreensão do celular de Bolsonaro - O Antagonista\n",
            "Augusto Aras deve se manifestar contra a busca e apreensão do celular de Jair Bolsonaro, pedido que consta de notícias-crime apresentadas por PDT, PSB e PV ao Supremo...\n",
            "https://www.oantagonista.com/brasil/aras-deve-rejeitar-pedido-de-apreensao-do-celular-de-bolsonaro/\n",
            "\n",
            "Fraudes no Auxílio Emergencial e HoloLens no combate ao coronavírus - Hoje no TecMundo - TecMundo\n",
            "No programa de hoje, vamos falar sobre fraudes no auxílio emergencial, o Microsoft Hololens sendo usado no combate ao coronavírus e o fim da porta Lightning ...\n",
            "https://www.youtube.com/watch?v=bpf3TxyarbI\n",
            "\n",
            "Sony oficializa nova câmera ZV-1 com design compacto e focada em criadores de conteúdo - Tudocelular.com\n",
            "Modelo grava em 4K a 30 fps e tem tela giratória.\n",
            "https://www.tudocelular.com/tech/noticias/n157213/sony-anuncia-camera-zv-1-produtores-conteudo.html\n",
            "\n",
            "Oi confirma lançamento de plano de internet com maior velocidade - Minha Operadora\n",
            "Operadora tem investido na expansão e no aprimoramento do seu serviço de banda larga fixa. Confira a lista de cidades atendidas.\n",
            "https://www.minhaoperadora.com.br/2020/05/oi-confirma-lancamento-de-plano-de-internet-com-maior-velocidade.html\n",
            "\n",
            "Galaxy A51 vs A71: qual intermediário premium Samsung comprar? | Comparativo - Tudocelular.com\n",
            "Galaxy A71 é melhor que o A51? Qual vale mais a pena comprar? Confira nosso comparativo de tela, bateria, desempenho e câmera e veja qual tem melhor custo-benefício.\n",
            "https://www.tudocelular.com/samsung/noticias/n157182/analise-philco-hit-pcs01-review.html\n",
            "\n",
            "Lenovo apresenta tablets da linha Yoga e IdeaPad com design inspirado no Surface Pro; saiba mais - Tudocelular.com\n",
            "Novos modelos chegam com aposta em versatilidade e design.\n",
            "https://www.tudocelular.com/novos-produtos/noticias/n157209/lenovo-apresenta-tablets-da-linha-yoga-e-ideapad.html\n",
            "\n",
            "Novo malware escondido no Google Play visava os Brasileiros - Olhar Digital\n",
            "'Defensor ID' se passava por software de segurança, e não tinha quase nenhum comportamento suspeito para driblar sistemas de detecção de malware do Google e outras empresas\n",
            "https://olhardigital.com.br/fique_seguro/noticia/novo-malware-escondido-no-google-play-visava-os-brasileiros/101274\n",
            "\n",
            "Baixe o APK: OnePlus Launcher é atualizado com suporte a janelas flutuantes no Android 10 - Tudocelular.com\n",
            "Veja agora essa e mais novidades dessa última atualização.\n",
            "https://www.tudocelular.com/android/noticias/n157204/apk-oneplus-launcher-atualizado-janelas-flutuantes.html\n",
            "\n",
            "Pokémon Go adiciona recurso avançado de realidade aumentada - Tecnoblog\n",
            "Tecnologia de RA da Niantic aplicada em Pokémon Go permite que os Pokémon fiquem ocultos quando estiverem atrás de objetos\n",
            "https://tecnoblog.net/341575/pokemon-go-adiciona-recurso-avancado-de-realidade-aumentada/\n",
            "\n",
            "Xiaomi revela imagens do Mi TV Stick em evento virtual na Alemanha - Olhar Digital\n",
            "Controle remoto do dispositivo conta com botões para iniciar sessões no Netflix e no Amazon Prime Video; aparelho também terá suporte para o Google Assistente\n",
            "https://olhardigital.com.br/noticia/xiaomi-revela-imagens-do-mi-tv-stick-em-evento-virtual-na-alemanha/101270\n",
            "\n",
            "Anatel quer internet fixa com 150 Mb/s de velocidade média até 2023 - Tecnoblog\n",
            "Anatel espera que velocidade média contratada de banda larga fixa no Brasil salte de 45 Mb/s para 150 Mb/s até 2023\n",
            "https://tecnoblog.net/341536/anatel-quer-internet-fixa-com-150-mb-s-de-velocidade-media-ate-2023/\n",
            "\n",
            "YouTube remove comentários ofensivos ao Partido Comunista da China - Tudocelular.com\n",
            "Aparentemente os termos foram inseridos em algum filtro anti-spam da rede social, no entanto a empresa desconhece a razão.\n",
            "https://www.tudocelular.com/google/noticias/n157203/youtube-censura-comentarios-ofensivos.html\n",
            "\n",
            "Anvisa libera eletrocardiograma do Apple Watch no Brasil - TechTudo\n",
            "Órgão ressalta que aplicativos não substituem procedimentos clínicos. Relógio smart já salvou inúmeras vidas de usuários com problemas no ritmo cardíaco.\n",
            "https://www.techtudo.com.br/noticias/2020/05/anvisa-aprova-funcao-de-eletrocardiograma-do-apple-watch-no-brasil.ghtml\n",
            "\n",
            "Como usar o modo escuro do Google no Chrome para Android - Olhar Digital\n",
            "Nova função presente no Chrome Canary permite que usuários com versões antigas do Android realizem buscas no Google com o modo escuro. Confira como ativá-la!\n",
            "https://olhardigital.com.br/dicas_e_tutoriais/noticia/como-usar-o-modo-escuro-do-google-no-chrome-para-android/101266\n",
            "\n",
            "Uber cria fundo de R$ 32 mi para ajudar motoristas e entregadores no Brasil - Estadão\n",
            "None\n",
            "https://news.google.com/__i/rss/rd/articles/CBMihAFodHRwczovL2xpbmsuZXN0YWRhby5jb20uYnIvbm90aWNpYXMvZW1wcmVzYXMsdWJlci1jcmlhLWZ1bmRvLWRlLXItMzItbWktcGFyYS1hanVkYXItbW90b3Jpc3Rhcy1lLWVudHJlZ2Fkb3Jlcy1uby1icmFzaWwsNzAwMDMzMTUwMjLSAQA?oc=5\n",
            "\n",
            "Xiaomi RedmiBook 13, 14 e 16 têm processadores AMD Ryzen 4000 - Tecnoblog\n",
            "Notebooks Xiaomi RedmiBook 13, 14 II e 16 podem ser equipados com chip AMD Ryzen 5 4500U ou Ryzen 7 4700U\n",
            "https://tecnoblog.net/341546/xiaomi-redmibook-13-14-16-processador-amd-ryzen-4000/\n",
            "\n",
            "Três truques e dicas simples para dominar o aplicativo WhatsApp - Metro Jornal\n",
            "Metro Jornal - 2020/05/26\n",
            "https://www.metrojornal.com.br/estilo-vida/2020/05/26/tres-truques-e-dicas-simples-para-dominar-o-aplicativo-whatsapp.html\n",
            "\n"
          ],
          "name": "stdout"
        }
      ]
    }
  ]
}