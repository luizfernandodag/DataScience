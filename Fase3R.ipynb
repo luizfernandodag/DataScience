{
  "nbformat": 4,
  "nbformat_minor": 0,
  "metadata": {
    "colab": {
      "name": "Fase3R.ipynb",
      "provenance": [],
      "include_colab_link": true
    },
    "kernelspec": {
      "name": "ir",
      "display_name": "R"
    }
  },
  "cells": [
    {
      "cell_type": "markdown",
      "metadata": {
        "id": "view-in-github",
        "colab_type": "text"
      },
      "source": [
        "<a href=\"https://colab.research.google.com/github/luizfernandodag/DataScience/blob/master/Fase3R.ipynb\" target=\"_parent\"><img src=\"https://colab.research.google.com/assets/colab-badge.svg\" alt=\"Open In Colab\"/></a>"
      ]
    },
    {
      "cell_type": "markdown",
      "metadata": {
        "id": "Z2Kl9pfj0JKM",
        "colab_type": "text"
      },
      "source": [
        "# Seja ensinável e execute as tarefas compartilhadas. Por fins didáticos e para melhor separação mental das sintaxes Python/R, realizaremos todos os exercícios de Python em R.\n",
        "![alt text](https://media0.giphy.com/media/pheOCmHVZehjy/source.gif)"
      ]
    },
    {
      "cell_type": "markdown",
      "metadata": {
        "id": "Y7enDOmAEdmo",
        "colab_type": "text"
      },
      "source": [
        "## Utilize apenas funções e pacotes R para os desafios abaixo\n",
        "#### Skills principais trabalhadas: tolerância a frustração, pesquisa, auto-didatismo, compreensão de texto, lógica de programação e leitura de documentação(pacotes)."
      ]
    },
    {
      "cell_type": "markdown",
      "metadata": {
        "id": "j9ZuOU7Kyh9O",
        "colab_type": "text"
      },
      "source": [
        "Faça a leitura de um dataset(conjunto de dados) do Rbase e mostre as primeiras linhas deste dataset"
      ]
    },
    {
      "cell_type": "code",
      "metadata": {
        "id": "tlFupLd-ydTB",
        "colab_type": "code",
        "colab": {
          "base_uri": "https://localhost:8080/",
          "height": 348
        },
        "outputId": "8f288d5c-ffb1-41f9-95b2-6257b71a88f6"
      },
      "source": [
        "library(boot)\n",
        "\n",
        "data(bigcity)\n",
        "?bigcity\n",
        "summary(bigcity)\n",
        "head(bigcity)"
      ],
      "execution_count": null,
      "outputs": [
        {
          "output_type": "display_data",
          "data": {
            "text/plain": [
              "       u               x        \n",
              " Min.   :  2.0   Min.   : 46.0  \n",
              " 1st Qu.: 43.0   1st Qu.: 58.0  \n",
              " Median : 64.0   Median : 79.0  \n",
              " Mean   :103.1   Mean   :127.8  \n",
              " 3rd Qu.:120.0   3rd Qu.:130.0  \n",
              " Max.   :507.0   Max.   :634.0  "
            ]
          },
          "metadata": {
            "tags": []
          }
        },
        {
          "output_type": "display_data",
          "data": {
            "text/plain": [
              "  u   x  \n",
              "1 138 143\n",
              "2  93 104\n",
              "3  61  69\n",
              "4 179 260\n",
              "5  48  75\n",
              "6  37  63"
            ],
            "text/latex": "A data.frame: 6 × 2\n\\begin{tabular}{r|ll}\n  & u & x\\\\\n  & <dbl> & <dbl>\\\\\n\\hline\n\t1 & 138 & 143\\\\\n\t2 &  93 & 104\\\\\n\t3 &  61 &  69\\\\\n\t4 & 179 & 260\\\\\n\t5 &  48 &  75\\\\\n\t6 &  37 &  63\\\\\n\\end{tabular}\n",
            "text/markdown": "\nA data.frame: 6 × 2\n\n| <!--/--> | u &lt;dbl&gt; | x &lt;dbl&gt; |\n|---|---|---|\n| 1 | 138 | 143 |\n| 2 |  93 | 104 |\n| 3 |  61 |  69 |\n| 4 | 179 | 260 |\n| 5 |  48 |  75 |\n| 6 |  37 |  63 |\n\n",
            "text/html": [
              "<table>\n",
              "<caption>A data.frame: 6 × 2</caption>\n",
              "<thead>\n",
              "\t<tr><th></th><th scope=col>u</th><th scope=col>x</th></tr>\n",
              "\t<tr><th></th><th scope=col>&lt;dbl&gt;</th><th scope=col>&lt;dbl&gt;</th></tr>\n",
              "</thead>\n",
              "<tbody>\n",
              "\t<tr><th scope=row>1</th><td>138</td><td>143</td></tr>\n",
              "\t<tr><th scope=row>2</th><td> 93</td><td>104</td></tr>\n",
              "\t<tr><th scope=row>3</th><td> 61</td><td> 69</td></tr>\n",
              "\t<tr><th scope=row>4</th><td>179</td><td>260</td></tr>\n",
              "\t<tr><th scope=row>5</th><td> 48</td><td> 75</td></tr>\n",
              "\t<tr><th scope=row>6</th><td> 37</td><td> 63</td></tr>\n",
              "</tbody>\n",
              "</table>\n"
            ]
          },
          "metadata": {
            "tags": []
          }
        }
      ]
    },
    {
      "cell_type": "markdown",
      "metadata": {
        "id": "3Yr1zAKdFRy-",
        "colab_type": "text"
      },
      "source": [
        "Faça a leitura de um dataset(conjunto de dados) do Rbase e mostre as últimas linhas deste dataset"
      ]
    },
    {
      "cell_type": "code",
      "metadata": {
        "id": "hkJTCQmKFVfE",
        "colab_type": "code",
        "colab": {
          "base_uri": "https://localhost:8080/",
          "height": 221
        },
        "outputId": "7a78f1df-c703-4547-80cd-3ed795758b56"
      },
      "source": [
        "library(boot)\n",
        "\n",
        "data(bigcity)\n",
        "\n",
        "tail(bigcity)\n"
      ],
      "execution_count": null,
      "outputs": [
        {
          "output_type": "display_data",
          "data": {
            "text/plain": [
              "   u   x  \n",
              "44 116 130\n",
              "45  87 105\n",
              "46  43  61\n",
              "47  43  50\n",
              "48 161 232\n",
              "49  36  54"
            ],
            "text/latex": "A data.frame: 6 × 2\n\\begin{tabular}{r|ll}\n  & u & x\\\\\n  & <dbl> & <dbl>\\\\\n\\hline\n\t44 & 116 & 130\\\\\n\t45 &  87 & 105\\\\\n\t46 &  43 &  61\\\\\n\t47 &  43 &  50\\\\\n\t48 & 161 & 232\\\\\n\t49 &  36 &  54\\\\\n\\end{tabular}\n",
            "text/markdown": "\nA data.frame: 6 × 2\n\n| <!--/--> | u &lt;dbl&gt; | x &lt;dbl&gt; |\n|---|---|---|\n| 44 | 116 | 130 |\n| 45 |  87 | 105 |\n| 46 |  43 |  61 |\n| 47 |  43 |  50 |\n| 48 | 161 | 232 |\n| 49 |  36 |  54 |\n\n",
            "text/html": [
              "<table>\n",
              "<caption>A data.frame: 6 × 2</caption>\n",
              "<thead>\n",
              "\t<tr><th></th><th scope=col>u</th><th scope=col>x</th></tr>\n",
              "\t<tr><th></th><th scope=col>&lt;dbl&gt;</th><th scope=col>&lt;dbl&gt;</th></tr>\n",
              "</thead>\n",
              "<tbody>\n",
              "\t<tr><th scope=row>44</th><td>116</td><td>130</td></tr>\n",
              "\t<tr><th scope=row>45</th><td> 87</td><td>105</td></tr>\n",
              "\t<tr><th scope=row>46</th><td> 43</td><td> 61</td></tr>\n",
              "\t<tr><th scope=row>47</th><td> 43</td><td> 50</td></tr>\n",
              "\t<tr><th scope=row>48</th><td>161</td><td>232</td></tr>\n",
              "\t<tr><th scope=row>49</th><td> 36</td><td> 54</td></tr>\n",
              "</tbody>\n",
              "</table>\n"
            ]
          },
          "metadata": {
            "tags": []
          }
        }
      ]
    },
    {
      "cell_type": "markdown",
      "metadata": {
        "id": "3MY8QLnuFVoX",
        "colab_type": "text"
      },
      "source": [
        "Utilizando uma função Rbase, abra um dataset contido em sua própria máquina."
      ]
    },
    {
      "cell_type": "code",
      "metadata": {
        "id": "30lZbqcfFgiH",
        "colab_type": "code",
        "colab": {
          "base_uri": "https://localhost:8080/",
          "height": 247
        },
        "outputId": "e373dd42-efb3-4773-90da-67bca69c3731"
      },
      "source": [
        "#write_file(x = \"a,b,c\\n1,2,3\\n4,5,NA\", path = \"file.csv\") \n",
        "d = read_csv(\"file.csv\") \n",
        "d"
      ],
      "execution_count": null,
      "outputs": [
        {
          "output_type": "stream",
          "text": [
            "Parsed with column specification:\n",
            "cols(\n",
            "  a = \u001b[32mcol_double()\u001b[39m,\n",
            "  b = \u001b[32mcol_double()\u001b[39m,\n",
            "  c = \u001b[32mcol_double()\u001b[39m\n",
            ")\n",
            "\n"
          ],
          "name": "stderr"
        },
        {
          "output_type": "display_data",
          "data": {
            "text/plain": [
              "  a b c \n",
              "1 1 2  3\n",
              "2 4 5 NA"
            ],
            "text/latex": "A spec\\_tbl\\_df: 2 × 3\n\\begin{tabular}{lll}\n a & b & c\\\\\n <dbl> & <dbl> & <dbl>\\\\\n\\hline\n\t 1 & 2 &  3\\\\\n\t 4 & 5 & NA\\\\\n\\end{tabular}\n",
            "text/markdown": "\nA spec_tbl_df: 2 × 3\n\n| a &lt;dbl&gt; | b &lt;dbl&gt; | c &lt;dbl&gt; |\n|---|---|---|\n| 1 | 2 |  3 |\n| 4 | 5 | NA |\n\n",
            "text/html": [
              "<table>\n",
              "<caption>A spec_tbl_df: 2 × 3</caption>\n",
              "<thead>\n",
              "\t<tr><th scope=col>a</th><th scope=col>b</th><th scope=col>c</th></tr>\n",
              "\t<tr><th scope=col>&lt;dbl&gt;</th><th scope=col>&lt;dbl&gt;</th><th scope=col>&lt;dbl&gt;</th></tr>\n",
              "</thead>\n",
              "<tbody>\n",
              "\t<tr><td>1</td><td>2</td><td> 3</td></tr>\n",
              "\t<tr><td>4</td><td>5</td><td>NA</td></tr>\n",
              "</tbody>\n",
              "</table>\n"
            ]
          },
          "metadata": {
            "tags": []
          }
        }
      ]
    },
    {
      "cell_type": "markdown",
      "metadata": {
        "id": "6xyDmufwFgtS",
        "colab_type": "text"
      },
      "source": [
        "Crie uma função que recebe 2 parâmetros e retorna o maior valor destes."
      ]
    },
    {
      "cell_type": "code",
      "metadata": {
        "id": "X6k1tzNWFxMM",
        "colab_type": "code",
        "colab": {
          "base_uri": "https://localhost:8080/",
          "height": 71
        },
        "outputId": "2ae006fb-d784-4193-9cd2-fa4c113bef2d"
      },
      "source": [
        "max = function(a,b)\n",
        "{\n",
        "  return (ifelse(a>=b,a,b))\n",
        "}\n",
        "\n",
        "arg1 = as.double(readline(\"Arg1: \"))\n",
        "arg2 = as.double(readline(\"Arg2: \"))\n",
        "\n",
        "paste(\"Max arq1 and arq2: \", max(arg1,arg2))"
      ],
      "execution_count": null,
      "outputs": [
        {
          "output_type": "stream",
          "text": [
            "Arg1: 1\n",
            "Arg2: 2\n"
          ],
          "name": "stdout"
        },
        {
          "output_type": "display_data",
          "data": {
            "text/plain": [
              "[1] \"Max arq1 and arq2 2\""
            ],
            "text/latex": "'Max arq1 and arq2 2'",
            "text/markdown": "'Max arq1 and arq2 2'",
            "text/html": [
              "'Max arq1 and arq2 2'"
            ]
          },
          "metadata": {
            "tags": []
          }
        }
      ]
    },
    {
      "cell_type": "markdown",
      "metadata": {
        "id": "NWlYA5_sFx5w",
        "colab_type": "text"
      },
      "source": [
        "Crie ou abra um dataset e na sequência, faça plotagem das features em um gráfico de barras."
      ]
    },
    {
      "cell_type": "code",
      "metadata": {
        "id": "HMr2U0I8F-zM",
        "colab_type": "code",
        "colab": {
          "base_uri": "https://localhost:8080/",
          "height": 437
        },
        "outputId": "1402d12c-dcf3-4e8c-9015-64a01661de39"
      },
      "source": [
        "library(tidyverse)\n",
        "library(ggplot2)\n",
        "\n",
        "poly2 = function(a,b,c,x){\n",
        "  return(a*x^2 + b*x +c )\n",
        "}\n",
        "f1 = c()\n",
        "f2 = c()\n",
        "x = c()\n",
        "\n",
        "for (i in -10:10)\n",
        "{\n",
        "  x = c(x,i)\n",
        "  f1 = c(f1, poly2(1,0,1,i))\n",
        "  f2 = c(f2, poly2(-2,5,+100,i))\n",
        "}\n",
        "\n",
        "df <- data.frame(x,f1,f2)\n",
        "\n",
        "ggplot(df, aes(x)) +                    # basic graphical object\n",
        "  geom_line(aes(y=f1), colour=\"red\") +  # first layer\n",
        "  geom_line(aes(y=f2), colour=\"green\")  # second layer\n",
        "\n",
        "\n",
        "\n"
      ],
      "execution_count": null,
      "outputs": [
        {
          "output_type": "display_data",
          "data": {
            "image/png": "[encoded data removed]",
            "text/plain": [
              "plot without title"
            ]
          },
          "metadata": {
            "tags": [],
            "image/png": {
              "width": 420,
              "height": 420
            }
          }
        }
      ]
    },
    {
      "cell_type": "markdown",
      "metadata": {
        "id": "3ua79PyZGTOB",
        "colab_type": "text"
      },
      "source": [
        "Com o dataset abaixo carregado, realize os exercícios seguintes:"
      ]
    },
    {
      "cell_type": "code",
      "metadata": {
        "id": "s3xbysLTGS7S",
        "colab_type": "code",
        "colab": {}
      },
      "source": [
        "enderecos <- c(\"Rua Marcelino 8511, São Paulo\", \"Avenida Voluntários da Pátria 367, Curitiba\", \"Rua do corcovado 198, Rio de janeiro\")\n",
        "produtos <- c(\"TV\", \"notebooks\", \"GPU\", \"mouses\", \"Teclado\")\n",
        "sentencas <- stringr::sentences[1:10]\n",
        "campos <- c(\"order_number\", \"order_date\", \"customer_email\", \"product_title\", \"amount\")\n",
        "skills <- c(\"João Silva (jr)\", \"Rita Cadillac (senior)\", \"Chris Brown (senior)\", \"Sara Sarali (pleno)\")"
      ],
      "execution_count": null,
      "outputs": []
    },
    {
      "cell_type": "markdown",
      "metadata": {
        "id": "oIARcRAyHn2N",
        "colab_type": "text"
      },
      "source": [
        "Normalize o vetor de endereços substituindo letras maiúsculas por minúsculas."
      ]
    },
    {
      "cell_type": "code",
      "metadata": {
        "id": "TS6qkcK-HqRx",
        "colab_type": "code",
        "colab": {
          "base_uri": "https://localhost:8080/",
          "height": 35
        },
        "outputId": "e9c28ac5-2a26-4c76-cbf3-7a377338707a"
      },
      "source": [
        "enderecos = str_to_lower(enderecos)\n",
        "enderecos"
      ],
      "execution_count": null,
      "outputs": [
        {
          "output_type": "display_data",
          "data": {
            "text/plain": [
              "[1] \"rua marcelino 8511, são paulo\"              \n",
              "[2] \"avenida voluntários da pátria 367, curitiba\"\n",
              "[3] \"rua do corcovado 198, rio de janeiro\"       "
            ],
            "text/latex": "\\begin{enumerate*}\n\\item 'rua marcelino 8511, são paulo'\n\\item 'avenida voluntários da pátria 367, curitiba'\n\\item 'rua do corcovado 198, rio de janeiro'\n\\end{enumerate*}\n",
            "text/markdown": "1. 'rua marcelino 8511, são paulo'\n2. 'avenida voluntários da pátria 367, curitiba'\n3. 'rua do corcovado 198, rio de janeiro'\n\n\n",
            "text/html": [
              "<style>\n",
              ".list-inline {list-style: none; margin:0; padding: 0}\n",
              ".list-inline>li {display: inline-block}\n",
              ".list-inline>li:not(:last-child)::after {content: \"\\00b7\"; padding: 0 .5ex}\n",
              "</style>\n",
              "<ol class=list-inline><li>'rua marcelino 8511, são paulo'</li><li>'avenida voluntários da pátria 367, curitiba'</li><li>'rua do corcovado 198, rio de janeiro'</li></ol>\n"
            ]
          },
          "metadata": {
            "tags": []
          }
        }
      ]
    },
    {
      "cell_type": "markdown",
      "metadata": {
        "id": "EHmTOtNaHqfc",
        "colab_type": "text"
      },
      "source": [
        "Puxe apenas a parte numérica do vetor de endereços."
      ]
    },
    {
      "cell_type": "code",
      "metadata": {
        "id": "1qQJ4NmMHtgM",
        "colab_type": "code",
        "colab": {
          "base_uri": "https://localhost:8080/",
          "height": 199
        },
        "outputId": "1fac2e5c-6ca7-4a39-a7e2-ed04c09053a9"
      },
      "source": [
        "library(\"stringr\") \n",
        "#numbers of addresses \n",
        "numPhrases = length(enderecos)\n",
        "#indexes of the numbers (iniNumber, endNumber)\n",
        "indexesNum = unlist(str_locate_all(enderecos, \"[0-9]+\"))\n",
        "\n",
        "\n",
        "numeros = c()\n",
        "\n",
        "for( i in 1:numPhrases)\n",
        "{\n",
        "  print(enderecos[i])\n",
        "  indexesPhraseI = unlist(str_locate_all(enderecos[i], \"[0-9]+\"))\n",
        "  print(indexesPhraseI)\n",
        "  num = substr(enderecos[i], indexesPhraseI[1],indexesPhraseI[2])\n",
        "  print(num)\n",
        "  numeros = c(numeros, num)\n",
        "\n",
        "}\n",
        "numeros = as.integer(numeros)\n",
        "print(numeros)\n",
        "#num_loc\n",
        "\n"
      ],
      "execution_count": null,
      "outputs": [
        {
          "output_type": "stream",
          "text": [
            "[1] \"rua marcelino 8511, são paulo\"\n",
            "[1] 15 18\n",
            "[1] \"8511\"\n",
            "[1] \"avenida voluntários da pátria 367, curitiba\"\n",
            "[1] 31 33\n",
            "[1] \"367\"\n",
            "[1] \"rua do corcovado 198, rio de janeiro\"\n",
            "[1] 18 20\n",
            "[1] \"198\"\n",
            "[1] 8511  367  198\n"
          ],
          "name": "stdout"
        }
      ]
    },
    {
      "cell_type": "markdown",
      "metadata": {
        "id": "pRY89c-dHyPC",
        "colab_type": "text"
      },
      "source": [
        "Divida o vetor de endereços em duas partes: endereço e cidade. O resultado deve ser uma matriz."
      ]
    },
    {
      "cell_type": "code",
      "metadata": {
        "id": "e8MPIMUUHyXq",
        "colab_type": "code",
        "colab": {
          "base_uri": "https://localhost:8080/",
          "height": 120
        },
        "outputId": "f3ebac7c-0f15-4c45-ac75-9aa31cbc9716"
      },
      "source": [
        "data = unlist(str_split(enderecos, \",\"))\n",
        "# data[which(data[]==\"a\"),]\n",
        "endereco = data[seq(1,length(data),2)]\n",
        "cidade   = data[seq(2,length(data),2)]\n",
        "df = data.frame(endereco,cidade)\n",
        "as.matrix(df)\n"
      ],
      "execution_count": null,
      "outputs": [
        {
          "output_type": "display_data",
          "data": {
            "text/plain": [
              "     endereco                          cidade         \n",
              "[1,] rua marcelino 8511                 são paulo     \n",
              "[2,] avenida voluntários da pátria 367  curitiba      \n",
              "[3,] rua do corcovado 198               rio de janeiro"
            ],
            "text/latex": "A matrix: 3 × 2 of type chr\n\\begin{tabular}{ll}\n endereco & cidade\\\\\n\\hline\n\t rua marcelino 8511                &  são paulo     \\\\\n\t avenida voluntários da pátria 367 &  curitiba      \\\\\n\t rua do corcovado 198              &  rio de janeiro\\\\\n\\end{tabular}\n",
            "text/markdown": "\nA matrix: 3 × 2 of type chr\n\n| endereco | cidade |\n|---|---|\n| rua marcelino 8511                |  são paulo      |\n| avenida voluntários da pátria 367 |  curitiba       |\n| rua do corcovado 198              |  rio de janeiro |\n\n",
            "text/html": [
              "<table>\n",
              "<caption>A matrix: 3 × 2 of type chr</caption>\n",
              "<thead>\n",
              "\t<tr><th scope=col>endereco</th><th scope=col>cidade</th></tr>\n",
              "</thead>\n",
              "<tbody>\n",
              "\t<tr><td>rua marcelino 8511               </td><td> são paulo     </td></tr>\n",
              "\t<tr><td>avenida voluntários da pátria 367</td><td> curitiba      </td></tr>\n",
              "\t<tr><td>rua do corcovado 198             </td><td> rio de janeiro</td></tr>\n",
              "</tbody>\n",
              "</table>\n"
            ]
          },
          "metadata": {
            "tags": []
          }
        }
      ]
    },
    {
      "cell_type": "markdown",
      "metadata": {
        "id": "1nNzBOBhIAo4",
        "colab_type": "text"
      },
      "source": [
        "Normalize o vetor \"produtos\" removendo todos os espaços em branco desnecessários (início, meio e fim), capitalizando todas as letras."
      ]
    },
    {
      "cell_type": "code",
      "metadata": {
        "id": "jCLZSbriIXKh",
        "colab_type": "code",
        "colab": {
          "base_uri": "https://localhost:8080/",
          "height": 35
        },
        "outputId": "b92c55f5-6a8c-48c8-da0c-872d5567ec29"
      },
      "source": [
        "produtos <- str_trim(str_to_upper(produtos))\n",
        "print(produtos)"
      ],
      "execution_count": null,
      "outputs": [
        {
          "output_type": "stream",
          "text": [
            "[1] \"TV\"        \"NOTEBOOKS\" \"GPU\"       \"MOUSES\"    \"TECLADO\"  \n"
          ],
          "name": "stdout"
        }
      ]
    }
  ]
}