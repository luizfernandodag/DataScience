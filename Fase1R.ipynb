{
  "nbformat": 4,
  "nbformat_minor": 0,
  "metadata": {
    "colab": {
      "name": "Fase1R.ipynb",
      "provenance": [],
      "collapsed_sections": [],
      "include_colab_link": true
    },
    "kernelspec": {
      "name": "ir",
      "display_name": "R"
    }
  },
  "cells": [
    {
      "cell_type": "markdown",
      "metadata": {
        "id": "view-in-github",
        "colab_type": "text"
      },
      "source": [
        "<a href=\"https://colab.research.google.com/github/luizfernandodag/DataScience/blob/master/Fase1R.ipynb\" target=\"_parent\"><img src=\"https://colab.research.google.com/assets/colab-badge.svg\" alt=\"Open In Colab\"/></a>"
      ]
    },
    {
      "cell_type": "markdown",
      "metadata": {
        "id": "Z2Kl9pfj0JKM",
        "colab_type": "text"
      },
      "source": [
        "# Seja ensinável e execute as tarefas compartilhadas. Por fins didáticos e para melhor separação mental das sintaxes Python/R, realizaremos todos os exercícios de Python em R.\n",
        "![alt text](https://media.giphy.com/media/d3mlE7uhX8KFgEmY/200.gif)"
      ]
    },
    {
      "cell_type": "markdown",
      "metadata": {
        "id": "j9ZuOU7Kyh9O",
        "colab_type": "text"
      },
      "source": [
        "Crie um algoritmo em R que mostre a mensagem \"Alo mundo\" na tela."
      ]
    },
    {
      "cell_type": "code",
      "metadata": {
        "id": "tlFupLd-ydTB",
        "colab_type": "code",
        "colab": {
          "base_uri": "https://localhost:8080/",
          "height": 34
        },
        "outputId": "8827924f-16c9-4024-cfaa-a216f2a27a55"
      },
      "source": [
        "print(\"Alo mundo\")"
      ],
      "execution_count": null,
      "outputs": [
        {
          "output_type": "stream",
          "text": [
            "[1] \"Alo mundo\"\n"
          ],
          "name": "stdout"
        }
      ]
    },
    {
      "cell_type": "markdown",
      "metadata": {
        "id": "yhw2owA-zbrn",
        "colab_type": "text"
      },
      "source": [
        "Crie um algoritmo em R que peça dois números e imprima a soma."
      ]
    },
    {
      "cell_type": "code",
      "metadata": {
        "id": "RJJtXkvV0qzj",
        "colab_type": "code",
        "colab": {
          "base_uri": "https://localhost:8080/",
          "height": 68
        },
        "outputId": "aa406316-5767-437f-fef8-3f316cec91ca"
      },
      "source": [
        "num1 = as.integer(readline(\"Digite o primeiro numero: \"))\n",
        "num2 = as.integer(readline(\"Digite o segundo numero: \"))\n",
        "print(num1+num2)\n"
      ],
      "execution_count": null,
      "outputs": [
        {
          "output_type": "stream",
          "text": [
            "Digite o primeiro numero: 2\n",
            "Digite o segundo numero: 4\n",
            "[1] 6\n"
          ],
          "name": "stdout"
        }
      ]
    },
    {
      "cell_type": "markdown",
      "metadata": {
        "id": "35RwPIIF0w3i",
        "colab_type": "text"
      },
      "source": [
        "Crie um algoritmo em R que peça um número e então mostre a mensagem O número informado foi [número]."
      ]
    },
    {
      "cell_type": "code",
      "metadata": {
        "id": "NEFu-8L808HB",
        "colab_type": "code",
        "colab": {
          "base_uri": "https://localhost:8080/",
          "height": 51
        },
        "outputId": "9d6ccc39-01d4-4b0b-b8e4-f10450c35556"
      },
      "source": [
        "num = as.integer(readline(\"Digite um numero: \"))\n",
        "paste(\"O numero digitado foi: \",  num)"
      ],
      "execution_count": null,
      "outputs": [
        {
          "output_type": "stream",
          "text": [
            "Digite um numero: 3\n"
          ],
          "name": "stdout"
        },
        {
          "output_type": "display_data",
          "data": {
            "text/plain": [
              "[1] \"O numero digitado foi:  3\""
            ],
            "text/latex": "'O numero digitado foi:  3'",
            "text/markdown": "<span style=white-space:pre-wrap>'O numero digitado foi:  3'</span>",
            "text/html": [
              "<span style=white-space:pre-wrap>'O numero digitado foi:  3'</span>"
            ]
          },
          "metadata": {
            "tags": []
          }
        }
      ]
    },
    {
      "cell_type": "markdown",
      "metadata": {
        "id": "_OGQmoYA08bI",
        "colab_type": "text"
      },
      "source": [
        "Crie um algoritmo em R que converta metros para centímetros."
      ]
    },
    {
      "cell_type": "code",
      "metadata": {
        "id": "xxgmQ5j21Abx",
        "colab_type": "code",
        "colab": {
          "base_uri": "https://localhost:8080/",
          "height": 53
        },
        "outputId": "b223dd84-aed6-445b-aa24-2b861220df80"
      },
      "source": [
        "metterToCentimeter <- function(m){\n",
        "  return (100*m)\n",
        "}\n",
        "\n",
        "metters = as.double(readline(\"Digite a quantidade de metros: \"))\n",
        "\n",
        "paste(\"Quantity of centimeters: \", metterToCentimeter(metters))"
      ],
      "execution_count": null,
      "outputs": [
        {
          "output_type": "stream",
          "text": [
            "Digite a quantidade de metros: 234\n"
          ],
          "name": "stdout"
        },
        {
          "output_type": "display_data",
          "data": {
            "text/plain": [
              "[1] \"Quantity of centimeters:  23400\""
            ],
            "text/latex": "'Quantity of centimeters:  23400'",
            "text/markdown": "<span style=white-space:pre-wrap>'Quantity of centimeters:  23400'</span>",
            "text/html": [
              "<span style=white-space:pre-wrap>'Quantity of centimeters:  23400'</span>"
            ]
          },
          "metadata": {
            "tags": []
          }
        }
      ]
    },
    {
      "cell_type": "markdown",
      "metadata": {
        "id": "kP9TOwKo1AnS",
        "colab_type": "text"
      },
      "source": [
        "Crie um algoritmo em Python que peça as 4 notas bimestrais e mostre a média."
      ]
    },
    {
      "cell_type": "code",
      "metadata": {
        "id": "Tj5xsjC-1D5I",
        "colab_type": "code",
        "colab": {
          "base_uri": "https://localhost:8080/",
          "height": 54
        },
        "outputId": "01f49701-238f-4210-89da-6c1c8cbcc84b"
      },
      "source": [
        "#notas = list(map(float, input(f\"Digite 4 notas: \").split()))\n",
        "#print(mean(notas))\n",
        "txt = readline(\"Digite 4 numeros: \")\n",
        "numeros <- as.double(unlist(strsplit(txt, split = \" \")))\n",
        "lista = c(numeros)\n",
        "print(mean(lista))"
      ],
      "execution_count": null,
      "outputs": [
        {
          "output_type": "stream",
          "text": [
            "Digite 4 numeros: 1 2 3 4 \n",
            "[1] 2.5\n"
          ],
          "name": "stdout"
        }
      ]
    },
    {
      "cell_type": "code",
      "metadata": {
        "id": "qysaXkIZ-qjj",
        "colab_type": "code",
        "colab": {
          "base_uri": "https://localhost:8080/",
          "height": 53
        },
        "outputId": "5be9ba11-56f4-42ec-b4e6-972373afb6f0"
      },
      "source": [
        "library(dplyr)\n",
        "txt = readline(\"Digite 4 numeros: \")\n",
        "txt %>% strsplit(\" \") %>% unlist() %>% as.double() %>% c() %>% mean() \n"
      ],
      "execution_count": null,
      "outputs": [
        {
          "output_type": "stream",
          "text": [
            "Digite 4 numeros: 1 2 3 4\n"
          ],
          "name": "stdout"
        },
        {
          "output_type": "display_data",
          "data": {
            "text/plain": [
              "[1] 2.5"
            ],
            "text/latex": "2.5",
            "text/markdown": "2.5",
            "text/html": [
              "2.5"
            ]
          },
          "metadata": {
            "tags": []
          }
        }
      ]
    },
    {
      "cell_type": "code",
      "metadata": {
        "id": "fzLhvXpwAGMa",
        "colab_type": "code",
        "colab": {}
      },
      "source": [
        ""
      ],
      "execution_count": null,
      "outputs": []
    },
    {
      "cell_type": "code",
      "metadata": {
        "id": "I1ToVbhlAQy7",
        "colab_type": "code",
        "colab": {}
      },
      "source": [
        ""
      ],
      "execution_count": null,
      "outputs": []
    },
    {
      "cell_type": "markdown",
      "metadata": {
        "id": "6vgD9pl81EGd",
        "colab_type": "text"
      },
      "source": [
        "Crie um algoritmo em R que peça o raio de um círculo, calcule e mostre sua área."
      ]
    },
    {
      "cell_type": "code",
      "metadata": {
        "id": "3h1VOEuR1KGz",
        "colab_type": "code",
        "colab": {
          "base_uri": "https://localhost:8080/",
          "height": 53
        },
        "outputId": "45c90280-ab9c-4092-b31d-3e3047773955"
      },
      "source": [
        "r = as.double(readline(\"Digite o raio do circulo: \"))\n",
        "area = pi*r**2\n",
        "paste(\"Area: \", area)"
      ],
      "execution_count": null,
      "outputs": [
        {
          "output_type": "stream",
          "text": [
            "Digite o raio do circulo: 2\n"
          ],
          "name": "stdout"
        },
        {
          "output_type": "display_data",
          "data": {
            "text/plain": [
              "[1] \"Area:  12.5663706143592\""
            ],
            "text/latex": "'Area:  12.5663706143592'",
            "text/markdown": "<span style=white-space:pre-wrap>'Area:  12.5663706143592'</span>",
            "text/html": [
              "<span style=white-space:pre-wrap>'Area:  12.5663706143592'</span>"
            ]
          },
          "metadata": {
            "tags": []
          }
        }
      ]
    },
    {
      "cell_type": "markdown",
      "metadata": {
        "id": "QXhvPnMQ1Kd6",
        "colab_type": "text"
      },
      "source": [
        "Crie um algoritmo em R que calcule a área de um quadrado, em seguida mostre o dobro desta área para o usuário."
      ]
    },
    {
      "cell_type": "code",
      "metadata": {
        "id": "ywZkuhmt1N7l",
        "colab_type": "code",
        "colab": {
          "base_uri": "https://localhost:8080/",
          "height": 53
        },
        "outputId": "292fa88d-66e3-4922-bc73-bf2ce9006bb0"
      },
      "source": [
        "side = as.double(readline(\"Digite o lado do quadrado\"))\n",
        "area = side**2\n",
        "paste(\"Dobro da area: \", 2*area)"
      ],
      "execution_count": null,
      "outputs": [
        {
          "output_type": "stream",
          "text": [
            "Digite o lado do quadrado2\n"
          ],
          "name": "stdout"
        },
        {
          "output_type": "display_data",
          "data": {
            "text/plain": [
              "[1] \"Dobro da area:  8\""
            ],
            "text/latex": "'Dobro da area:  8'",
            "text/markdown": "<span style=white-space:pre-wrap>'Dobro da area:  8'</span>",
            "text/html": [
              "<span style=white-space:pre-wrap>'Dobro da area:  8'</span>"
            ]
          },
          "metadata": {
            "tags": []
          }
        }
      ]
    },
    {
      "cell_type": "markdown",
      "metadata": {
        "id": "F-rpjggB1T5G",
        "colab_type": "text"
      },
      "source": [
        "Crie um algoritmo em R que pergunte quanto você ganha por hora e o número de horas trabalhadas no mês. Calcule e mostre o total do seu salário no referido mês.\n"
      ]
    },
    {
      "cell_type": "code",
      "metadata": {
        "id": "nvMchfOZ2_vC",
        "colab_type": "code",
        "colab": {
          "base_uri": "https://localhost:8080/",
          "height": 71
        },
        "outputId": "08b17128-7d61-441d-9eb5-bcb481ce5d74"
      },
      "source": [
        "hourRate = as.double(readline(\"Write how much you get per hour: \"))\n",
        "numHourMonth = as.double(readline(\"How much hours did you work per month? \"))\n",
        "\n",
        "paste(\"Salary: \", hourRate*numHourMonth)\n"
      ],
      "execution_count": null,
      "outputs": [
        {
          "output_type": "stream",
          "text": [
            "Write how much you get per hour: 80.45\n",
            "How much hours did you work per month? 400\n"
          ],
          "name": "stdout"
        },
        {
          "output_type": "display_data",
          "data": {
            "text/plain": [
              "[1] \"Salary:  32180\""
            ],
            "text/latex": "'Salary:  32180'",
            "text/markdown": "<span style=white-space:pre-wrap>'Salary:  32180'</span>",
            "text/html": [
              "<span style=white-space:pre-wrap>'Salary:  32180'</span>"
            ]
          },
          "metadata": {
            "tags": []
          }
        }
      ]
    },
    {
      "cell_type": "markdown",
      "metadata": {
        "id": "C-H4OWh03DFn",
        "colab_type": "text"
      },
      "source": [
        "Crie um algoritmo em R que peça a temperatura em graus Farenheit, transforme e mostre a temperatura em graus Celsius.\n",
        "C = (5 * (F-32) / 9)."
      ]
    },
    {
      "cell_type": "code",
      "metadata": {
        "id": "vs5qFAKx3Eyi",
        "colab_type": "code",
        "colab": {
          "base_uri": "https://localhost:8080/",
          "height": 53
        },
        "outputId": "09a5ce52-f1cc-47af-f021-ac065eafdcd0"
      },
      "source": [
        "farhrenheitToCelsius <- function(f)\n",
        "{\n",
        "  return(5*(f-32)/9)\n",
        "}\n",
        "\n",
        "f = as.double(readline(\"Write the temperature in farenheit: \"))\n",
        "paste(\"Celsious: \", farhrenheitToCelsius(f))"
      ],
      "execution_count": null,
      "outputs": [
        {
          "output_type": "stream",
          "text": [
            "Write the temperature in farenheit: 70\n"
          ],
          "name": "stdout"
        },
        {
          "output_type": "display_data",
          "data": {
            "text/plain": [
              "[1] \"Celsious:  21.1111111111111\""
            ],
            "text/latex": "'Celsious:  21.1111111111111'",
            "text/markdown": "<span style=white-space:pre-wrap>'Celsious:  21.1111111111111'</span>",
            "text/html": [
              "<span style=white-space:pre-wrap>'Celsious:  21.1111111111111'</span>"
            ]
          },
          "metadata": {
            "tags": []
          }
        }
      ]
    },
    {
      "cell_type": "markdown",
      "metadata": {
        "id": "PGccudSo3E54",
        "colab_type": "text"
      },
      "source": [
        "Crie um algoritmo em R que peça a temperatura em graus Celsius, transforme e mostre em graus Farenheit."
      ]
    },
    {
      "cell_type": "code",
      "metadata": {
        "id": "_zfLyopV3IqV",
        "colab_type": "code",
        "colab": {
          "base_uri": "https://localhost:8080/",
          "height": 53
        },
        "outputId": "87d13c7c-49a1-4b1f-a286-55e0a4fd90ca"
      },
      "source": [
        "celsiusToFarhrenheit = function(c)\n",
        "{\n",
        "  return (9*c/5 +32)\n",
        "}\n",
        "\n",
        "c = as.double(readline(\"Write the temperature in celsius: \"))\n",
        "\n",
        "paste(\"Farenheit: \", celsiusToFarhrenheit(c))"
      ],
      "execution_count": null,
      "outputs": [
        {
          "output_type": "stream",
          "text": [
            "Write the temperature in celsius: 20\n"
          ],
          "name": "stdout"
        },
        {
          "output_type": "display_data",
          "data": {
            "text/plain": [
              "[1] \"Farenheit:  68\""
            ],
            "text/latex": "'Farenheit:  68'",
            "text/markdown": "<span style=white-space:pre-wrap>'Farenheit:  68'</span>",
            "text/html": [
              "<span style=white-space:pre-wrap>'Farenheit:  68'</span>"
            ]
          },
          "metadata": {
            "tags": []
          }
        }
      ]
    },
    {
      "cell_type": "markdown",
      "metadata": {
        "id": "bu3Zyati3Iwc",
        "colab_type": "text"
      },
      "source": [
        "Crie um algoritmo em R que peça 2 números inteiros e um número real. Calcule e mostre:\n",
        "* a soma do dobro do primeiro com metade do segundo .\n",
        "* a soma do triplo do primeiro com o terceiro.\n",
        "* o terceiro elevado ao cubo."
      ]
    },
    {
      "cell_type": "code",
      "metadata": {
        "id": "Peo4D5Sz3PDC",
        "colab_type": "code",
        "colab": {
          "base_uri": "https://localhost:8080/",
          "height": 126
        },
        "outputId": "9b5c85d6-9673-4273-a234-75b0c8950816"
      },
      "source": [
        "int1 = as.integer(readline(\"Type a integer: \"))\n",
        "int2 = as.integer(readline(\"Type another integer: \"))\n",
        "real = as.double(readline(\"Type a real number: \"))\n",
        "\n",
        "print(2*int1+ int2/2)\n",
        "print(3*int1 + real)\n",
        "print(real**3)"
      ],
      "execution_count": null,
      "outputs": [
        {
          "output_type": "stream",
          "text": [
            "Type a integer: 2\n",
            "Type another integer: 4\n",
            "Type a real number: 3.5\n",
            "[1] 6\n",
            "[1] 9.5\n",
            "[1] 42.875\n"
          ],
          "name": "stdout"
        }
      ]
    },
    {
      "cell_type": "code",
      "metadata": {
        "id": "ErFHZDkDH7ys",
        "colab_type": "code",
        "colab": {}
      },
      "source": [
        "\"\""
      ],
      "execution_count": null,
      "outputs": []
    }
  ]
}